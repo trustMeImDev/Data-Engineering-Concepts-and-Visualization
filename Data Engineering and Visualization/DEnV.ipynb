{
 "cells": [
  {
   "cell_type": "markdown",
   "id": "7b27578f-aa73-4213-a90c-e8bf64c78b9f",
   "metadata": {},
   "source": [
    "# Intro to Data Engineering with Python"
   ]
  },
  {
   "cell_type": "code",
   "execution_count": 4,
   "id": "3ba2cf63-891a-41b1-8932-25ae7315ffe1",
   "metadata": {},
   "outputs": [],
   "source": [
    "import pandas as pd\n",
    "import numpy as np\n",
    "import matplotlib as mpl\n",
    "import matplotlib.pyplot as plt"
   ]
  },
  {
   "cell_type": "code",
   "execution_count": 99,
   "id": "50cf12b4-c816-4bae-b70e-2cd26072d354",
   "metadata": {},
   "outputs": [],
   "source": [
    "df = pd.read_csv('./data/cars.csv')"
   ]
  },
  {
   "cell_type": "markdown",
   "id": "86d9f1c6-bcb2-4c9d-a8f5-ab00acdc2935",
   "metadata": {},
   "source": [
    "## Statistical Operations with Python"
   ]
  },
  {
   "cell_type": "code",
   "execution_count": 70,
   "id": "e38bfc3d-9ca0-42a1-81fa-8cac8ae0a290",
   "metadata": {},
   "outputs": [
    {
     "data": {
      "text/html": [
       "<div>\n",
       "<style scoped>\n",
       "    .dataframe tbody tr th:only-of-type {\n",
       "        vertical-align: middle;\n",
       "    }\n",
       "\n",
       "    .dataframe tbody tr th {\n",
       "        vertical-align: top;\n",
       "    }\n",
       "\n",
       "    .dataframe thead th {\n",
       "        text-align: right;\n",
       "    }\n",
       "</style>\n",
       "<table border=\"1\" class=\"dataframe\">\n",
       "  <thead>\n",
       "    <tr style=\"text-align: right;\">\n",
       "      <th></th>\n",
       "      <th>0</th>\n",
       "    </tr>\n",
       "  </thead>\n",
       "  <tbody>\n",
       "    <tr>\n",
       "      <th>0</th>\n",
       "      <td>100</td>\n",
       "    </tr>\n",
       "    <tr>\n",
       "      <th>1</th>\n",
       "      <td>80</td>\n",
       "    </tr>\n",
       "    <tr>\n",
       "      <th>2</th>\n",
       "      <td>102</td>\n",
       "    </tr>\n",
       "    <tr>\n",
       "      <th>3</th>\n",
       "      <td>94</td>\n",
       "    </tr>\n",
       "    <tr>\n",
       "      <th>4</th>\n",
       "      <td>88</td>\n",
       "    </tr>\n",
       "    <tr>\n",
       "      <th>5</th>\n",
       "      <td>20</td>\n",
       "    </tr>\n",
       "    <tr>\n",
       "      <th>6</th>\n",
       "      <td>69</td>\n",
       "    </tr>\n",
       "    <tr>\n",
       "      <th>7</th>\n",
       "      <td>100</td>\n",
       "    </tr>\n",
       "    <tr>\n",
       "      <th>8</th>\n",
       "      <td>23</td>\n",
       "    </tr>\n",
       "    <tr>\n",
       "      <th>9</th>\n",
       "      <td>30</td>\n",
       "    </tr>\n",
       "    <tr>\n",
       "      <th>10</th>\n",
       "      <td>100</td>\n",
       "    </tr>\n",
       "  </tbody>\n",
       "</table>\n",
       "</div>"
      ],
      "text/plain": [
       "      0\n",
       "0   100\n",
       "1    80\n",
       "2   102\n",
       "3    94\n",
       "4    88\n",
       "5    20\n",
       "6    69\n",
       "7   100\n",
       "8    23\n",
       "9    30\n",
       "10  100"
      ]
     },
     "execution_count": 70,
     "metadata": {},
     "output_type": "execute_result"
    }
   ],
   "source": [
    "dataframe = pd.DataFrame([100, 80, 102, 94, 88, 20, 69, 100, 23, 30, 100])\n",
    "dataframe"
   ]
  },
  {
   "cell_type": "code",
   "execution_count": 63,
   "id": "47c3ad96-894a-476d-a20d-1639e267490e",
   "metadata": {},
   "outputs": [
    {
     "data": {
      "text/plain": [
       "0    int64\n",
       "dtype: object"
      ]
     },
     "execution_count": 63,
     "metadata": {},
     "output_type": "execute_result"
    }
   ],
   "source": [
    "dataframe.dtypes"
   ]
  },
  {
   "cell_type": "code",
   "execution_count": 71,
   "id": "9e0577ea-db29-4be4-a04c-d344d4f9b6cf",
   "metadata": {},
   "outputs": [
    {
     "data": {
      "text/plain": [
       "0    73.272727\n",
       "dtype: float64"
      ]
     },
     "execution_count": 71,
     "metadata": {},
     "output_type": "execute_result"
    }
   ],
   "source": [
    "dataframe.mean()"
   ]
  },
  {
   "cell_type": "code",
   "execution_count": 74,
   "id": "aabbdfda-e2e8-48fb-8b18-235ed565e1de",
   "metadata": {},
   "outputs": [
    {
     "data": {
      "text/plain": [
       "0    88.0\n",
       "dtype: float64"
      ]
     },
     "execution_count": 74,
     "metadata": {},
     "output_type": "execute_result"
    }
   ],
   "source": [
    "dataframe.median()"
   ]
  },
  {
   "cell_type": "code",
   "execution_count": 75,
   "id": "a045ce8b-d071-4f5c-bbce-6d916502e2ff",
   "metadata": {},
   "outputs": [
    {
     "data": {
      "text/html": [
       "<div>\n",
       "<style scoped>\n",
       "    .dataframe tbody tr th:only-of-type {\n",
       "        vertical-align: middle;\n",
       "    }\n",
       "\n",
       "    .dataframe tbody tr th {\n",
       "        vertical-align: top;\n",
       "    }\n",
       "\n",
       "    .dataframe thead th {\n",
       "        text-align: right;\n",
       "    }\n",
       "</style>\n",
       "<table border=\"1\" class=\"dataframe\">\n",
       "  <thead>\n",
       "    <tr style=\"text-align: right;\">\n",
       "      <th></th>\n",
       "      <th>0</th>\n",
       "    </tr>\n",
       "  </thead>\n",
       "  <tbody>\n",
       "    <tr>\n",
       "      <th>0</th>\n",
       "      <td>100</td>\n",
       "    </tr>\n",
       "  </tbody>\n",
       "</table>\n",
       "</div>"
      ],
      "text/plain": [
       "     0\n",
       "0  100"
      ]
     },
     "execution_count": 75,
     "metadata": {},
     "output_type": "execute_result"
    }
   ],
   "source": [
    "dataframe.mode()"
   ]
  },
  {
   "cell_type": "code",
   "execution_count": 72,
   "id": "b81755bf-686f-4713-881c-61ae03ae5cde",
   "metadata": {},
   "outputs": [
    {
     "data": {
      "text/plain": [
       "0    33.039646\n",
       "dtype: float64"
      ]
     },
     "execution_count": 72,
     "metadata": {},
     "output_type": "execute_result"
    }
   ],
   "source": [
    "dataframe.std()"
   ]
  },
  {
   "cell_type": "code",
   "execution_count": 76,
   "id": "fd7b273c-52ea-45f2-9c45-511e22e24d69",
   "metadata": {},
   "outputs": [
    {
     "data": {
      "text/html": [
       "<div>\n",
       "<style scoped>\n",
       "    .dataframe tbody tr th:only-of-type {\n",
       "        vertical-align: middle;\n",
       "    }\n",
       "\n",
       "    .dataframe tbody tr th {\n",
       "        vertical-align: top;\n",
       "    }\n",
       "\n",
       "    .dataframe thead th {\n",
       "        text-align: right;\n",
       "    }\n",
       "</style>\n",
       "<table border=\"1\" class=\"dataframe\">\n",
       "  <thead>\n",
       "    <tr style=\"text-align: right;\">\n",
       "      <th></th>\n",
       "      <th>0</th>\n",
       "    </tr>\n",
       "  </thead>\n",
       "  <tbody>\n",
       "    <tr>\n",
       "      <th>0</th>\n",
       "      <td>1091.618182</td>\n",
       "    </tr>\n",
       "  </tbody>\n",
       "</table>\n",
       "</div>"
      ],
      "text/plain": [
       "             0\n",
       "0  1091.618182"
      ]
     },
     "execution_count": 76,
     "metadata": {},
     "output_type": "execute_result"
    }
   ],
   "source": [
    "dataframe.cov()"
   ]
  },
  {
   "cell_type": "code",
   "execution_count": 77,
   "id": "06b79b0b-52a1-4127-873e-f0f5b924ef81",
   "metadata": {},
   "outputs": [
    {
     "data": {
      "text/plain": [
       "0    20\n",
       "dtype: int64"
      ]
     },
     "execution_count": 77,
     "metadata": {},
     "output_type": "execute_result"
    }
   ],
   "source": [
    "dataframe.min()"
   ]
  },
  {
   "cell_type": "code",
   "execution_count": 78,
   "id": "ad3f6d8c-53e0-4741-88f3-4bd33b78059d",
   "metadata": {},
   "outputs": [
    {
     "data": {
      "text/plain": [
       "0    102\n",
       "dtype: int64"
      ]
     },
     "execution_count": 78,
     "metadata": {},
     "output_type": "execute_result"
    }
   ],
   "source": [
    "dataframe.max()"
   ]
  },
  {
   "cell_type": "markdown",
   "id": "4d81253f-9d70-4e20-8e60-de19e2984881",
   "metadata": {},
   "source": [
    "## Data Handling with Pandas"
   ]
  },
  {
   "cell_type": "code",
   "execution_count": 3,
   "id": "4436bcda-13c1-4a63-964b-c5eec98ad89a",
   "metadata": {},
   "outputs": [
    {
     "data": {
      "text/html": [
       "<div>\n",
       "<style scoped>\n",
       "    .dataframe tbody tr th:only-of-type {\n",
       "        vertical-align: middle;\n",
       "    }\n",
       "\n",
       "    .dataframe tbody tr th {\n",
       "        vertical-align: top;\n",
       "    }\n",
       "\n",
       "    .dataframe thead th {\n",
       "        text-align: right;\n",
       "    }\n",
       "</style>\n",
       "<table border=\"1\" class=\"dataframe\">\n",
       "  <thead>\n",
       "    <tr style=\"text-align: right;\">\n",
       "      <th></th>\n",
       "      <th>Car_ID</th>\n",
       "      <th>Brand</th>\n",
       "      <th>Model</th>\n",
       "      <th>Year</th>\n",
       "      <th>Kilometers_Driven</th>\n",
       "      <th>Fuel_Type</th>\n",
       "      <th>Transmission</th>\n",
       "      <th>Owner_Type</th>\n",
       "      <th>Mileage</th>\n",
       "      <th>Engine</th>\n",
       "      <th>Power</th>\n",
       "      <th>Seats</th>\n",
       "      <th>Price</th>\n",
       "    </tr>\n",
       "  </thead>\n",
       "  <tbody>\n",
       "    <tr>\n",
       "      <th>0</th>\n",
       "      <td>1</td>\n",
       "      <td>Toyota</td>\n",
       "      <td>Corolla</td>\n",
       "      <td>2018</td>\n",
       "      <td>50000</td>\n",
       "      <td>Petrol</td>\n",
       "      <td>Manual</td>\n",
       "      <td>First</td>\n",
       "      <td>15</td>\n",
       "      <td>1498</td>\n",
       "      <td>108</td>\n",
       "      <td>5</td>\n",
       "      <td>800000</td>\n",
       "    </tr>\n",
       "    <tr>\n",
       "      <th>1</th>\n",
       "      <td>2</td>\n",
       "      <td>Honda</td>\n",
       "      <td>Civic</td>\n",
       "      <td>2019</td>\n",
       "      <td>40000</td>\n",
       "      <td>Petrol</td>\n",
       "      <td>Automatic</td>\n",
       "      <td>Second</td>\n",
       "      <td>17</td>\n",
       "      <td>1597</td>\n",
       "      <td>140</td>\n",
       "      <td>5</td>\n",
       "      <td>1000000</td>\n",
       "    </tr>\n",
       "    <tr>\n",
       "      <th>2</th>\n",
       "      <td>3</td>\n",
       "      <td>Ford</td>\n",
       "      <td>Mustang</td>\n",
       "      <td>2017</td>\n",
       "      <td>20000</td>\n",
       "      <td>Petrol</td>\n",
       "      <td>Automatic</td>\n",
       "      <td>First</td>\n",
       "      <td>10</td>\n",
       "      <td>4951</td>\n",
       "      <td>395</td>\n",
       "      <td>4</td>\n",
       "      <td>2500000</td>\n",
       "    </tr>\n",
       "    <tr>\n",
       "      <th>3</th>\n",
       "      <td>4</td>\n",
       "      <td>Maruti</td>\n",
       "      <td>Swift</td>\n",
       "      <td>2020</td>\n",
       "      <td>30000</td>\n",
       "      <td>Diesel</td>\n",
       "      <td>Manual</td>\n",
       "      <td>Third</td>\n",
       "      <td>23</td>\n",
       "      <td>1248</td>\n",
       "      <td>74</td>\n",
       "      <td>5</td>\n",
       "      <td>600000</td>\n",
       "    </tr>\n",
       "    <tr>\n",
       "      <th>4</th>\n",
       "      <td>5</td>\n",
       "      <td>Hyundai</td>\n",
       "      <td>Sonata</td>\n",
       "      <td>2016</td>\n",
       "      <td>60000</td>\n",
       "      <td>Diesel</td>\n",
       "      <td>Automatic</td>\n",
       "      <td>Second</td>\n",
       "      <td>18</td>\n",
       "      <td>1999</td>\n",
       "      <td>194</td>\n",
       "      <td>5</td>\n",
       "      <td>850000</td>\n",
       "    </tr>\n",
       "    <tr>\n",
       "      <th>5</th>\n",
       "      <td>6</td>\n",
       "      <td>Tata</td>\n",
       "      <td>Nexon</td>\n",
       "      <td>2019</td>\n",
       "      <td>35000</td>\n",
       "      <td>Petrol</td>\n",
       "      <td>Manual</td>\n",
       "      <td>First</td>\n",
       "      <td>17</td>\n",
       "      <td>1198</td>\n",
       "      <td>108</td>\n",
       "      <td>5</td>\n",
       "      <td>750000</td>\n",
       "    </tr>\n",
       "    <tr>\n",
       "      <th>6</th>\n",
       "      <td>7</td>\n",
       "      <td>Mahindra</td>\n",
       "      <td>Scorpio</td>\n",
       "      <td>2018</td>\n",
       "      <td>45000</td>\n",
       "      <td>Diesel</td>\n",
       "      <td>Automatic</td>\n",
       "      <td>Second</td>\n",
       "      <td>15</td>\n",
       "      <td>2179</td>\n",
       "      <td>140</td>\n",
       "      <td>7</td>\n",
       "      <td>900000</td>\n",
       "    </tr>\n",
       "    <tr>\n",
       "      <th>7</th>\n",
       "      <td>8</td>\n",
       "      <td>Volkswagen</td>\n",
       "      <td>Polo</td>\n",
       "      <td>2020</td>\n",
       "      <td>25000</td>\n",
       "      <td>Petrol</td>\n",
       "      <td>Automatic</td>\n",
       "      <td>First</td>\n",
       "      <td>18</td>\n",
       "      <td>999</td>\n",
       "      <td>76</td>\n",
       "      <td>5</td>\n",
       "      <td>650000</td>\n",
       "    </tr>\n",
       "    <tr>\n",
       "      <th>8</th>\n",
       "      <td>9</td>\n",
       "      <td>Audi</td>\n",
       "      <td>A4</td>\n",
       "      <td>2017</td>\n",
       "      <td>30000</td>\n",
       "      <td>Diesel</td>\n",
       "      <td>Automatic</td>\n",
       "      <td>First</td>\n",
       "      <td>18</td>\n",
       "      <td>1968</td>\n",
       "      <td>187</td>\n",
       "      <td>5</td>\n",
       "      <td>2200000</td>\n",
       "    </tr>\n",
       "    <tr>\n",
       "      <th>9</th>\n",
       "      <td>10</td>\n",
       "      <td>BMW</td>\n",
       "      <td>X1</td>\n",
       "      <td>2019</td>\n",
       "      <td>20000</td>\n",
       "      <td>Diesel</td>\n",
       "      <td>Automatic</td>\n",
       "      <td>Second</td>\n",
       "      <td>20</td>\n",
       "      <td>1995</td>\n",
       "      <td>190</td>\n",
       "      <td>5</td>\n",
       "      <td>2700000</td>\n",
       "    </tr>\n",
       "    <tr>\n",
       "      <th>10</th>\n",
       "      <td>11</td>\n",
       "      <td>Mercedes</td>\n",
       "      <td>C-Class</td>\n",
       "      <td>2018</td>\n",
       "      <td>28000</td>\n",
       "      <td>Petrol</td>\n",
       "      <td>Automatic</td>\n",
       "      <td>First</td>\n",
       "      <td>16</td>\n",
       "      <td>1991</td>\n",
       "      <td>181</td>\n",
       "      <td>5</td>\n",
       "      <td>2300000</td>\n",
       "    </tr>\n",
       "    <tr>\n",
       "      <th>11</th>\n",
       "      <td>12</td>\n",
       "      <td>Ford</td>\n",
       "      <td>Endeavour</td>\n",
       "      <td>2017</td>\n",
       "      <td>35000</td>\n",
       "      <td>Diesel</td>\n",
       "      <td>Automatic</td>\n",
       "      <td>Second</td>\n",
       "      <td>12</td>\n",
       "      <td>2198</td>\n",
       "      <td>158</td>\n",
       "      <td>7</td>\n",
       "      <td>2000000</td>\n",
       "    </tr>\n",
       "    <tr>\n",
       "      <th>12</th>\n",
       "      <td>13</td>\n",
       "      <td>Hyundai</td>\n",
       "      <td>Creta</td>\n",
       "      <td>2019</td>\n",
       "      <td>22000</td>\n",
       "      <td>Petrol</td>\n",
       "      <td>Manual</td>\n",
       "      <td>Third</td>\n",
       "      <td>16</td>\n",
       "      <td>1497</td>\n",
       "      <td>113</td>\n",
       "      <td>5</td>\n",
       "      <td>850000</td>\n",
       "    </tr>\n",
       "    <tr>\n",
       "      <th>13</th>\n",
       "      <td>14</td>\n",
       "      <td>Tata</td>\n",
       "      <td>Harrier</td>\n",
       "      <td>2018</td>\n",
       "      <td>40000</td>\n",
       "      <td>Diesel</td>\n",
       "      <td>Automatic</td>\n",
       "      <td>First</td>\n",
       "      <td>17</td>\n",
       "      <td>1956</td>\n",
       "      <td>167</td>\n",
       "      <td>5</td>\n",
       "      <td>1600000</td>\n",
       "    </tr>\n",
       "    <tr>\n",
       "      <th>14</th>\n",
       "      <td>15</td>\n",
       "      <td>Maruti</td>\n",
       "      <td>Ertiga</td>\n",
       "      <td>2020</td>\n",
       "      <td>18000</td>\n",
       "      <td>Petrol</td>\n",
       "      <td>Manual</td>\n",
       "      <td>First</td>\n",
       "      <td>19</td>\n",
       "      <td>1462</td>\n",
       "      <td>103</td>\n",
       "      <td>7</td>\n",
       "      <td>850000</td>\n",
       "    </tr>\n",
       "    <tr>\n",
       "      <th>15</th>\n",
       "      <td>16</td>\n",
       "      <td>Honda</td>\n",
       "      <td>City</td>\n",
       "      <td>2017</td>\n",
       "      <td>42000</td>\n",
       "      <td>Diesel</td>\n",
       "      <td>Manual</td>\n",
       "      <td>Second</td>\n",
       "      <td>25</td>\n",
       "      <td>1498</td>\n",
       "      <td>98</td>\n",
       "      <td>5</td>\n",
       "      <td>650000</td>\n",
       "    </tr>\n",
       "    <tr>\n",
       "      <th>16</th>\n",
       "      <td>17</td>\n",
       "      <td>Volkswagen</td>\n",
       "      <td>Tiguan</td>\n",
       "      <td>2018</td>\n",
       "      <td>32000</td>\n",
       "      <td>Diesel</td>\n",
       "      <td>Automatic</td>\n",
       "      <td>First</td>\n",
       "      <td>17</td>\n",
       "      <td>1968</td>\n",
       "      <td>141</td>\n",
       "      <td>5</td>\n",
       "      <td>1800000</td>\n",
       "    </tr>\n",
       "    <tr>\n",
       "      <th>17</th>\n",
       "      <td>18</td>\n",
       "      <td>Audi</td>\n",
       "      <td>Q3</td>\n",
       "      <td>2016</td>\n",
       "      <td>38000</td>\n",
       "      <td>Petrol</td>\n",
       "      <td>Automatic</td>\n",
       "      <td>Second</td>\n",
       "      <td>15</td>\n",
       "      <td>1395</td>\n",
       "      <td>148</td>\n",
       "      <td>5</td>\n",
       "      <td>1900000</td>\n",
       "    </tr>\n",
       "    <tr>\n",
       "      <th>18</th>\n",
       "      <td>19</td>\n",
       "      <td>BMW</td>\n",
       "      <td>5 Series</td>\n",
       "      <td>2019</td>\n",
       "      <td>24000</td>\n",
       "      <td>Diesel</td>\n",
       "      <td>Automatic</td>\n",
       "      <td>First</td>\n",
       "      <td>18</td>\n",
       "      <td>1995</td>\n",
       "      <td>187</td>\n",
       "      <td>5</td>\n",
       "      <td>3000000</td>\n",
       "    </tr>\n",
       "    <tr>\n",
       "      <th>19</th>\n",
       "      <td>20</td>\n",
       "      <td>Mercedes</td>\n",
       "      <td>GLC</td>\n",
       "      <td>2017</td>\n",
       "      <td>26000</td>\n",
       "      <td>Petrol</td>\n",
       "      <td>Automatic</td>\n",
       "      <td>Second</td>\n",
       "      <td>12</td>\n",
       "      <td>1991</td>\n",
       "      <td>241</td>\n",
       "      <td>5</td>\n",
       "      <td>2500000</td>\n",
       "    </tr>\n",
       "  </tbody>\n",
       "</table>\n",
       "</div>"
      ],
      "text/plain": [
       "    Car_ID       Brand      Model  Year  Kilometers_Driven Fuel_Type  \\\n",
       "0        1      Toyota    Corolla  2018              50000    Petrol   \n",
       "1        2       Honda      Civic  2019              40000    Petrol   \n",
       "2        3        Ford    Mustang  2017              20000    Petrol   \n",
       "3        4      Maruti      Swift  2020              30000    Diesel   \n",
       "4        5     Hyundai     Sonata  2016              60000    Diesel   \n",
       "5        6        Tata      Nexon  2019              35000    Petrol   \n",
       "6        7    Mahindra    Scorpio  2018              45000    Diesel   \n",
       "7        8  Volkswagen       Polo  2020              25000    Petrol   \n",
       "8        9        Audi         A4  2017              30000    Diesel   \n",
       "9       10         BMW         X1  2019              20000    Diesel   \n",
       "10      11    Mercedes    C-Class  2018              28000    Petrol   \n",
       "11      12        Ford  Endeavour  2017              35000    Diesel   \n",
       "12      13     Hyundai      Creta  2019              22000    Petrol   \n",
       "13      14        Tata    Harrier  2018              40000    Diesel   \n",
       "14      15      Maruti     Ertiga  2020              18000    Petrol   \n",
       "15      16       Honda       City  2017              42000    Diesel   \n",
       "16      17  Volkswagen     Tiguan  2018              32000    Diesel   \n",
       "17      18        Audi         Q3  2016              38000    Petrol   \n",
       "18      19         BMW   5 Series  2019              24000    Diesel   \n",
       "19      20    Mercedes        GLC  2017              26000    Petrol   \n",
       "\n",
       "   Transmission Owner_Type  Mileage  Engine  Power  Seats    Price  \n",
       "0        Manual      First       15    1498    108      5   800000  \n",
       "1     Automatic     Second       17    1597    140      5  1000000  \n",
       "2     Automatic      First       10    4951    395      4  2500000  \n",
       "3        Manual      Third       23    1248     74      5   600000  \n",
       "4     Automatic     Second       18    1999    194      5   850000  \n",
       "5        Manual      First       17    1198    108      5   750000  \n",
       "6     Automatic     Second       15    2179    140      7   900000  \n",
       "7     Automatic      First       18     999     76      5   650000  \n",
       "8     Automatic      First       18    1968    187      5  2200000  \n",
       "9     Automatic     Second       20    1995    190      5  2700000  \n",
       "10    Automatic      First       16    1991    181      5  2300000  \n",
       "11    Automatic     Second       12    2198    158      7  2000000  \n",
       "12       Manual      Third       16    1497    113      5   850000  \n",
       "13    Automatic      First       17    1956    167      5  1600000  \n",
       "14       Manual      First       19    1462    103      7   850000  \n",
       "15       Manual     Second       25    1498     98      5   650000  \n",
       "16    Automatic      First       17    1968    141      5  1800000  \n",
       "17    Automatic     Second       15    1395    148      5  1900000  \n",
       "18    Automatic      First       18    1995    187      5  3000000  \n",
       "19    Automatic     Second       12    1991    241      5  2500000  "
      ]
     },
     "execution_count": 3,
     "metadata": {},
     "output_type": "execute_result"
    }
   ],
   "source": [
    "df.head(20)"
   ]
  },
  {
   "cell_type": "code",
   "execution_count": 4,
   "id": "ba172cfd-7f84-4443-97e7-fff0725b77e6",
   "metadata": {},
   "outputs": [
    {
     "data": {
      "text/plain": [
       "Index(['Car_ID', 'Brand', 'Model', 'Year', 'Kilometers_Driven', 'Fuel_Type',\n",
       "       'Transmission', 'Owner_Type', 'Mileage', 'Engine', 'Power', 'Seats',\n",
       "       'Price'],\n",
       "      dtype='object')"
      ]
     },
     "execution_count": 4,
     "metadata": {},
     "output_type": "execute_result"
    }
   ],
   "source": [
    "df.columns"
   ]
  },
  {
   "cell_type": "code",
   "execution_count": 5,
   "id": "3a4f36f2-b75c-4c35-a5f9-440868bf898a",
   "metadata": {},
   "outputs": [
    {
     "name": "stdout",
     "output_type": "stream",
     "text": [
      "<class 'pandas.core.frame.DataFrame'>\n",
      "RangeIndex: 100 entries, 0 to 99\n",
      "Data columns (total 13 columns):\n",
      " #   Column             Non-Null Count  Dtype \n",
      "---  ------             --------------  ----- \n",
      " 0   Car_ID             100 non-null    int64 \n",
      " 1   Brand              100 non-null    object\n",
      " 2   Model              100 non-null    object\n",
      " 3   Year               100 non-null    int64 \n",
      " 4   Kilometers_Driven  100 non-null    int64 \n",
      " 5   Fuel_Type          100 non-null    object\n",
      " 6   Transmission       100 non-null    object\n",
      " 7   Owner_Type         100 non-null    object\n",
      " 8   Mileage            100 non-null    int64 \n",
      " 9   Engine             100 non-null    int64 \n",
      " 10  Power              100 non-null    int64 \n",
      " 11  Seats              100 non-null    int64 \n",
      " 12  Price              100 non-null    int64 \n",
      "dtypes: int64(8), object(5)\n",
      "memory usage: 10.3+ KB\n"
     ]
    }
   ],
   "source": [
    "df.info()"
   ]
  },
  {
   "cell_type": "code",
   "execution_count": 6,
   "id": "0ca91e35-15d2-4740-adf9-dc9ee67b96f8",
   "metadata": {},
   "outputs": [
    {
     "data": {
      "text/html": [
       "<div>\n",
       "<style scoped>\n",
       "    .dataframe tbody tr th:only-of-type {\n",
       "        vertical-align: middle;\n",
       "    }\n",
       "\n",
       "    .dataframe tbody tr th {\n",
       "        vertical-align: top;\n",
       "    }\n",
       "\n",
       "    .dataframe thead th {\n",
       "        text-align: right;\n",
       "    }\n",
       "</style>\n",
       "<table border=\"1\" class=\"dataframe\">\n",
       "  <thead>\n",
       "    <tr style=\"text-align: right;\">\n",
       "      <th></th>\n",
       "      <th>Car_ID</th>\n",
       "      <th>Year</th>\n",
       "      <th>Kilometers_Driven</th>\n",
       "      <th>Mileage</th>\n",
       "      <th>Engine</th>\n",
       "      <th>Power</th>\n",
       "      <th>Seats</th>\n",
       "      <th>Price</th>\n",
       "    </tr>\n",
       "  </thead>\n",
       "  <tbody>\n",
       "    <tr>\n",
       "      <th>count</th>\n",
       "      <td>100.000000</td>\n",
       "      <td>100.00000</td>\n",
       "      <td>100.000000</td>\n",
       "      <td>100.000000</td>\n",
       "      <td>100.000000</td>\n",
       "      <td>100.000000</td>\n",
       "      <td>100.000000</td>\n",
       "      <td>1.000000e+02</td>\n",
       "    </tr>\n",
       "    <tr>\n",
       "      <th>mean</th>\n",
       "      <td>50.500000</td>\n",
       "      <td>2018.39000</td>\n",
       "      <td>28150.000000</td>\n",
       "      <td>17.210000</td>\n",
       "      <td>1855.230000</td>\n",
       "      <td>158.130000</td>\n",
       "      <td>5.230000</td>\n",
       "      <td>1.574000e+06</td>\n",
       "    </tr>\n",
       "    <tr>\n",
       "      <th>std</th>\n",
       "      <td>29.011492</td>\n",
       "      <td>1.17116</td>\n",
       "      <td>9121.375716</td>\n",
       "      <td>3.309902</td>\n",
       "      <td>631.311475</td>\n",
       "      <td>76.968137</td>\n",
       "      <td>0.750151</td>\n",
       "      <td>1.000265e+06</td>\n",
       "    </tr>\n",
       "    <tr>\n",
       "      <th>min</th>\n",
       "      <td>1.000000</td>\n",
       "      <td>2016.00000</td>\n",
       "      <td>10000.000000</td>\n",
       "      <td>10.000000</td>\n",
       "      <td>999.000000</td>\n",
       "      <td>68.000000</td>\n",
       "      <td>4.000000</td>\n",
       "      <td>4.500000e+05</td>\n",
       "    </tr>\n",
       "    <tr>\n",
       "      <th>25%</th>\n",
       "      <td>25.750000</td>\n",
       "      <td>2017.75000</td>\n",
       "      <td>22000.000000</td>\n",
       "      <td>15.000000</td>\n",
       "      <td>1462.000000</td>\n",
       "      <td>103.000000</td>\n",
       "      <td>5.000000</td>\n",
       "      <td>7.000000e+05</td>\n",
       "    </tr>\n",
       "    <tr>\n",
       "      <th>50%</th>\n",
       "      <td>50.500000</td>\n",
       "      <td>2018.00000</td>\n",
       "      <td>27000.000000</td>\n",
       "      <td>17.000000</td>\n",
       "      <td>1774.000000</td>\n",
       "      <td>148.000000</td>\n",
       "      <td>5.000000</td>\n",
       "      <td>1.300000e+06</td>\n",
       "    </tr>\n",
       "    <tr>\n",
       "      <th>75%</th>\n",
       "      <td>75.250000</td>\n",
       "      <td>2019.00000</td>\n",
       "      <td>32000.000000</td>\n",
       "      <td>19.000000</td>\n",
       "      <td>2143.000000</td>\n",
       "      <td>187.000000</td>\n",
       "      <td>5.000000</td>\n",
       "      <td>2.500000e+06</td>\n",
       "    </tr>\n",
       "    <tr>\n",
       "      <th>max</th>\n",
       "      <td>100.000000</td>\n",
       "      <td>2021.00000</td>\n",
       "      <td>60000.000000</td>\n",
       "      <td>25.000000</td>\n",
       "      <td>4951.000000</td>\n",
       "      <td>396.000000</td>\n",
       "      <td>7.000000</td>\n",
       "      <td>4.000000e+06</td>\n",
       "    </tr>\n",
       "  </tbody>\n",
       "</table>\n",
       "</div>"
      ],
      "text/plain": [
       "           Car_ID        Year  Kilometers_Driven     Mileage       Engine  \\\n",
       "count  100.000000   100.00000         100.000000  100.000000   100.000000   \n",
       "mean    50.500000  2018.39000       28150.000000   17.210000  1855.230000   \n",
       "std     29.011492     1.17116        9121.375716    3.309902   631.311475   \n",
       "min      1.000000  2016.00000       10000.000000   10.000000   999.000000   \n",
       "25%     25.750000  2017.75000       22000.000000   15.000000  1462.000000   \n",
       "50%     50.500000  2018.00000       27000.000000   17.000000  1774.000000   \n",
       "75%     75.250000  2019.00000       32000.000000   19.000000  2143.000000   \n",
       "max    100.000000  2021.00000       60000.000000   25.000000  4951.000000   \n",
       "\n",
       "            Power       Seats         Price  \n",
       "count  100.000000  100.000000  1.000000e+02  \n",
       "mean   158.130000    5.230000  1.574000e+06  \n",
       "std     76.968137    0.750151  1.000265e+06  \n",
       "min     68.000000    4.000000  4.500000e+05  \n",
       "25%    103.000000    5.000000  7.000000e+05  \n",
       "50%    148.000000    5.000000  1.300000e+06  \n",
       "75%    187.000000    5.000000  2.500000e+06  \n",
       "max    396.000000    7.000000  4.000000e+06  "
      ]
     },
     "execution_count": 6,
     "metadata": {},
     "output_type": "execute_result"
    }
   ],
   "source": [
    "df.describe()"
   ]
  },
  {
   "cell_type": "code",
   "execution_count": 7,
   "id": "bb4c3cc8-8387-4c1c-b283-fb5670404865",
   "metadata": {
    "scrolled": true
   },
   "outputs": [
    {
     "data": {
      "text/plain": [
       "Car_ID                int64\n",
       "Brand                object\n",
       "Model                object\n",
       "Year                  int64\n",
       "Kilometers_Driven     int64\n",
       "Fuel_Type            object\n",
       "Transmission         object\n",
       "Owner_Type           object\n",
       "Mileage               int64\n",
       "Engine                int64\n",
       "Power                 int64\n",
       "Seats                 int64\n",
       "Price                 int64\n",
       "dtype: object"
      ]
     },
     "execution_count": 7,
     "metadata": {},
     "output_type": "execute_result"
    }
   ],
   "source": [
    "df.dtypes"
   ]
  },
  {
   "cell_type": "code",
   "execution_count": 8,
   "id": "c7a31632-b24d-4245-8a8f-5f50b6e8375b",
   "metadata": {},
   "outputs": [
    {
     "data": {
      "text/plain": [
       "1300"
      ]
     },
     "execution_count": 8,
     "metadata": {},
     "output_type": "execute_result"
    }
   ],
   "source": [
    "df.size # Total Number of cells"
   ]
  },
  {
   "cell_type": "code",
   "execution_count": 9,
   "id": "1418c8a1-a4d8-4b0f-9cb6-f54e8346d2a1",
   "metadata": {},
   "outputs": [
    {
     "data": {
      "text/plain": [
       "(100, 13)"
      ]
     },
     "execution_count": 9,
     "metadata": {},
     "output_type": "execute_result"
    }
   ],
   "source": [
    "df.shape # L x B of the dataset"
   ]
  },
  {
   "cell_type": "code",
   "execution_count": 10,
   "id": "412c9fba-3762-423f-ae31-9cb9fdbeee77",
   "metadata": {},
   "outputs": [
    {
     "data": {
      "text/plain": [
       "2"
      ]
     },
     "execution_count": 10,
     "metadata": {},
     "output_type": "execute_result"
    }
   ],
   "source": [
    "df.ndim # Dimensionality of the Dataset"
   ]
  },
  {
   "cell_type": "markdown",
   "id": "7bf94a28-6b76-49a1-9ddd-b9b53834dd71",
   "metadata": {},
   "source": [
    "## Dataset Preprocessing: Checking for Null Values"
   ]
  },
  {
   "cell_type": "code",
   "execution_count": 11,
   "id": "29a7a00e-10c3-4452-88d7-402768209421",
   "metadata": {},
   "outputs": [
    {
     "data": {
      "text/html": [
       "<div>\n",
       "<style scoped>\n",
       "    .dataframe tbody tr th:only-of-type {\n",
       "        vertical-align: middle;\n",
       "    }\n",
       "\n",
       "    .dataframe tbody tr th {\n",
       "        vertical-align: top;\n",
       "    }\n",
       "\n",
       "    .dataframe thead th {\n",
       "        text-align: right;\n",
       "    }\n",
       "</style>\n",
       "<table border=\"1\" class=\"dataframe\">\n",
       "  <thead>\n",
       "    <tr style=\"text-align: right;\">\n",
       "      <th></th>\n",
       "      <th>Car_ID</th>\n",
       "      <th>Brand</th>\n",
       "      <th>Model</th>\n",
       "      <th>Year</th>\n",
       "      <th>Kilometers_Driven</th>\n",
       "      <th>Fuel_Type</th>\n",
       "      <th>Transmission</th>\n",
       "      <th>Owner_Type</th>\n",
       "      <th>Mileage</th>\n",
       "      <th>Engine</th>\n",
       "      <th>Power</th>\n",
       "      <th>Seats</th>\n",
       "      <th>Price</th>\n",
       "    </tr>\n",
       "  </thead>\n",
       "  <tbody>\n",
       "    <tr>\n",
       "      <th>0</th>\n",
       "      <td>False</td>\n",
       "      <td>False</td>\n",
       "      <td>False</td>\n",
       "      <td>False</td>\n",
       "      <td>False</td>\n",
       "      <td>False</td>\n",
       "      <td>False</td>\n",
       "      <td>False</td>\n",
       "      <td>False</td>\n",
       "      <td>False</td>\n",
       "      <td>False</td>\n",
       "      <td>False</td>\n",
       "      <td>False</td>\n",
       "    </tr>\n",
       "    <tr>\n",
       "      <th>1</th>\n",
       "      <td>False</td>\n",
       "      <td>False</td>\n",
       "      <td>False</td>\n",
       "      <td>False</td>\n",
       "      <td>False</td>\n",
       "      <td>False</td>\n",
       "      <td>False</td>\n",
       "      <td>False</td>\n",
       "      <td>False</td>\n",
       "      <td>False</td>\n",
       "      <td>False</td>\n",
       "      <td>False</td>\n",
       "      <td>False</td>\n",
       "    </tr>\n",
       "    <tr>\n",
       "      <th>2</th>\n",
       "      <td>False</td>\n",
       "      <td>False</td>\n",
       "      <td>False</td>\n",
       "      <td>False</td>\n",
       "      <td>False</td>\n",
       "      <td>False</td>\n",
       "      <td>False</td>\n",
       "      <td>False</td>\n",
       "      <td>False</td>\n",
       "      <td>False</td>\n",
       "      <td>False</td>\n",
       "      <td>False</td>\n",
       "      <td>False</td>\n",
       "    </tr>\n",
       "    <tr>\n",
       "      <th>3</th>\n",
       "      <td>False</td>\n",
       "      <td>False</td>\n",
       "      <td>False</td>\n",
       "      <td>False</td>\n",
       "      <td>False</td>\n",
       "      <td>False</td>\n",
       "      <td>False</td>\n",
       "      <td>False</td>\n",
       "      <td>False</td>\n",
       "      <td>False</td>\n",
       "      <td>False</td>\n",
       "      <td>False</td>\n",
       "      <td>False</td>\n",
       "    </tr>\n",
       "    <tr>\n",
       "      <th>4</th>\n",
       "      <td>False</td>\n",
       "      <td>False</td>\n",
       "      <td>False</td>\n",
       "      <td>False</td>\n",
       "      <td>False</td>\n",
       "      <td>False</td>\n",
       "      <td>False</td>\n",
       "      <td>False</td>\n",
       "      <td>False</td>\n",
       "      <td>False</td>\n",
       "      <td>False</td>\n",
       "      <td>False</td>\n",
       "      <td>False</td>\n",
       "    </tr>\n",
       "    <tr>\n",
       "      <th>...</th>\n",
       "      <td>...</td>\n",
       "      <td>...</td>\n",
       "      <td>...</td>\n",
       "      <td>...</td>\n",
       "      <td>...</td>\n",
       "      <td>...</td>\n",
       "      <td>...</td>\n",
       "      <td>...</td>\n",
       "      <td>...</td>\n",
       "      <td>...</td>\n",
       "      <td>...</td>\n",
       "      <td>...</td>\n",
       "      <td>...</td>\n",
       "    </tr>\n",
       "    <tr>\n",
       "      <th>95</th>\n",
       "      <td>False</td>\n",
       "      <td>False</td>\n",
       "      <td>False</td>\n",
       "      <td>False</td>\n",
       "      <td>False</td>\n",
       "      <td>False</td>\n",
       "      <td>False</td>\n",
       "      <td>False</td>\n",
       "      <td>False</td>\n",
       "      <td>False</td>\n",
       "      <td>False</td>\n",
       "      <td>False</td>\n",
       "      <td>False</td>\n",
       "    </tr>\n",
       "    <tr>\n",
       "      <th>96</th>\n",
       "      <td>False</td>\n",
       "      <td>False</td>\n",
       "      <td>False</td>\n",
       "      <td>False</td>\n",
       "      <td>False</td>\n",
       "      <td>False</td>\n",
       "      <td>False</td>\n",
       "      <td>False</td>\n",
       "      <td>False</td>\n",
       "      <td>False</td>\n",
       "      <td>False</td>\n",
       "      <td>False</td>\n",
       "      <td>False</td>\n",
       "    </tr>\n",
       "    <tr>\n",
       "      <th>97</th>\n",
       "      <td>False</td>\n",
       "      <td>False</td>\n",
       "      <td>False</td>\n",
       "      <td>False</td>\n",
       "      <td>False</td>\n",
       "      <td>False</td>\n",
       "      <td>False</td>\n",
       "      <td>False</td>\n",
       "      <td>False</td>\n",
       "      <td>False</td>\n",
       "      <td>False</td>\n",
       "      <td>False</td>\n",
       "      <td>False</td>\n",
       "    </tr>\n",
       "    <tr>\n",
       "      <th>98</th>\n",
       "      <td>False</td>\n",
       "      <td>False</td>\n",
       "      <td>False</td>\n",
       "      <td>False</td>\n",
       "      <td>False</td>\n",
       "      <td>False</td>\n",
       "      <td>False</td>\n",
       "      <td>False</td>\n",
       "      <td>False</td>\n",
       "      <td>False</td>\n",
       "      <td>False</td>\n",
       "      <td>False</td>\n",
       "      <td>False</td>\n",
       "    </tr>\n",
       "    <tr>\n",
       "      <th>99</th>\n",
       "      <td>False</td>\n",
       "      <td>False</td>\n",
       "      <td>False</td>\n",
       "      <td>False</td>\n",
       "      <td>False</td>\n",
       "      <td>False</td>\n",
       "      <td>False</td>\n",
       "      <td>False</td>\n",
       "      <td>False</td>\n",
       "      <td>False</td>\n",
       "      <td>False</td>\n",
       "      <td>False</td>\n",
       "      <td>False</td>\n",
       "    </tr>\n",
       "  </tbody>\n",
       "</table>\n",
       "<p>100 rows × 13 columns</p>\n",
       "</div>"
      ],
      "text/plain": [
       "    Car_ID  Brand  Model   Year  Kilometers_Driven  Fuel_Type  Transmission  \\\n",
       "0    False  False  False  False              False      False         False   \n",
       "1    False  False  False  False              False      False         False   \n",
       "2    False  False  False  False              False      False         False   \n",
       "3    False  False  False  False              False      False         False   \n",
       "4    False  False  False  False              False      False         False   \n",
       "..     ...    ...    ...    ...                ...        ...           ...   \n",
       "95   False  False  False  False              False      False         False   \n",
       "96   False  False  False  False              False      False         False   \n",
       "97   False  False  False  False              False      False         False   \n",
       "98   False  False  False  False              False      False         False   \n",
       "99   False  False  False  False              False      False         False   \n",
       "\n",
       "    Owner_Type  Mileage  Engine  Power  Seats  Price  \n",
       "0        False    False   False  False  False  False  \n",
       "1        False    False   False  False  False  False  \n",
       "2        False    False   False  False  False  False  \n",
       "3        False    False   False  False  False  False  \n",
       "4        False    False   False  False  False  False  \n",
       "..         ...      ...     ...    ...    ...    ...  \n",
       "95       False    False   False  False  False  False  \n",
       "96       False    False   False  False  False  False  \n",
       "97       False    False   False  False  False  False  \n",
       "98       False    False   False  False  False  False  \n",
       "99       False    False   False  False  False  False  \n",
       "\n",
       "[100 rows x 13 columns]"
      ]
     },
     "execution_count": 11,
     "metadata": {},
     "output_type": "execute_result"
    }
   ],
   "source": [
    "df.isnull()"
   ]
  },
  {
   "cell_type": "code",
   "execution_count": 12,
   "id": "e439f4a5-3176-4e56-8bc7-4139f2dc55ca",
   "metadata": {},
   "outputs": [
    {
     "data": {
      "text/plain": [
       "Car_ID               0\n",
       "Brand                0\n",
       "Model                0\n",
       "Year                 0\n",
       "Kilometers_Driven    0\n",
       "Fuel_Type            0\n",
       "Transmission         0\n",
       "Owner_Type           0\n",
       "Mileage              0\n",
       "Engine               0\n",
       "Power                0\n",
       "Seats                0\n",
       "Price                0\n",
       "dtype: int64"
      ]
     },
     "execution_count": 12,
     "metadata": {},
     "output_type": "execute_result"
    }
   ],
   "source": [
    "df.isnull().sum() #This dataset does not have any null values, hence all 0."
   ]
  },
  {
   "cell_type": "code",
   "execution_count": 13,
   "id": "73791a2a-cb4d-4cbd-8766-c2528c209334",
   "metadata": {},
   "outputs": [
    {
     "data": {
      "text/plain": [
       "False"
      ]
     },
     "execution_count": 13,
     "metadata": {},
     "output_type": "execute_result"
    }
   ],
   "source": [
    "df.isnull().values.any()"
   ]
  },
  {
   "cell_type": "code",
   "execution_count": 14,
   "id": "f09ee1c8-c840-472a-88a2-4b5383b076fd",
   "metadata": {},
   "outputs": [
    {
     "data": {
      "text/plain": [
       "0     False\n",
       "1     False\n",
       "2     False\n",
       "3     False\n",
       "4     False\n",
       "      ...  \n",
       "95    False\n",
       "96    False\n",
       "97    False\n",
       "98    False\n",
       "99    False\n",
       "Name: Brand, Length: 100, dtype: bool"
      ]
     },
     "execution_count": 14,
     "metadata": {},
     "output_type": "execute_result"
    }
   ],
   "source": [
    "df['Brand'].isnull()"
   ]
  },
  {
   "cell_type": "markdown",
   "id": "b0eee3f3-8033-44aa-ac1a-66593259f911",
   "metadata": {},
   "source": [
    "#### Handling Null Values"
   ]
  },
  {
   "cell_type": "markdown",
   "id": "4d061a04-263c-453b-95c1-7cc02bcd4989",
   "metadata": {},
   "source": [
    "Assuming that, there are a few null values found, we may choose to handle these values in multiple manners:\n",
    "1. Filling with {Mean, Median, Mode... } // Any measure of distribution\n",
    "\n",
    "2. Dropping the row, from the table"
   ]
  },
  {
   "cell_type": "markdown",
   "id": "71be3e91-a379-4182-bec7-a13f23911cc3",
   "metadata": {},
   "source": [
    "Syntax:\n",
    "> dataset.fillna(value = {givenvalue} ,inplace=True)\n",
    " \n",
    "> dataset['columntofill'].fillna(value = dataset.columntofill.{mean/median}(), inplace = True)\n",
    "\n",
    "//Note: \"inplace = True\" will ensure whatever changes are made to the environment dataframe, will reflect into the actual database file.\n",
    "\n",
    "\n",
    "#### Dropping null values)"
   ]
  },
  {
   "cell_type": "markdown",
   "id": "9cd78ac9-14b5-456d-9ef1-6730b56c7283",
   "metadata": {},
   "source": [
    "> dataset.dropna(inplace=True)"
   ]
  },
  {
   "cell_type": "markdown",
   "id": "22d1074a-fad4-4bc9-b90a-77ce9c296511",
   "metadata": {},
   "source": [
    "#### Handling Duplicate Values"
   ]
  },
  {
   "cell_type": "code",
   "execution_count": 15,
   "id": "b2abf12a-1fd7-4d47-8556-c68074f4d422",
   "metadata": {},
   "outputs": [
    {
     "data": {
      "text/html": [
       "<div>\n",
       "<style scoped>\n",
       "    .dataframe tbody tr th:only-of-type {\n",
       "        vertical-align: middle;\n",
       "    }\n",
       "\n",
       "    .dataframe tbody tr th {\n",
       "        vertical-align: top;\n",
       "    }\n",
       "\n",
       "    .dataframe thead th {\n",
       "        text-align: right;\n",
       "    }\n",
       "</style>\n",
       "<table border=\"1\" class=\"dataframe\">\n",
       "  <thead>\n",
       "    <tr style=\"text-align: right;\">\n",
       "      <th></th>\n",
       "      <th>Car_ID</th>\n",
       "      <th>Brand</th>\n",
       "      <th>Model</th>\n",
       "      <th>Year</th>\n",
       "      <th>Kilometers_Driven</th>\n",
       "      <th>Fuel_Type</th>\n",
       "      <th>Transmission</th>\n",
       "      <th>Owner_Type</th>\n",
       "      <th>Mileage</th>\n",
       "      <th>Engine</th>\n",
       "      <th>Power</th>\n",
       "      <th>Seats</th>\n",
       "      <th>Price</th>\n",
       "    </tr>\n",
       "  </thead>\n",
       "  <tbody>\n",
       "    <tr>\n",
       "      <th>0</th>\n",
       "      <td>1</td>\n",
       "      <td>Toyota</td>\n",
       "      <td>Corolla</td>\n",
       "      <td>2018</td>\n",
       "      <td>50000</td>\n",
       "      <td>Petrol</td>\n",
       "      <td>Manual</td>\n",
       "      <td>First</td>\n",
       "      <td>15</td>\n",
       "      <td>1498</td>\n",
       "      <td>108</td>\n",
       "      <td>5</td>\n",
       "      <td>800000</td>\n",
       "    </tr>\n",
       "    <tr>\n",
       "      <th>1</th>\n",
       "      <td>2</td>\n",
       "      <td>Honda</td>\n",
       "      <td>Civic</td>\n",
       "      <td>2019</td>\n",
       "      <td>40000</td>\n",
       "      <td>Petrol</td>\n",
       "      <td>Automatic</td>\n",
       "      <td>Second</td>\n",
       "      <td>17</td>\n",
       "      <td>1597</td>\n",
       "      <td>140</td>\n",
       "      <td>5</td>\n",
       "      <td>1000000</td>\n",
       "    </tr>\n",
       "    <tr>\n",
       "      <th>2</th>\n",
       "      <td>3</td>\n",
       "      <td>Ford</td>\n",
       "      <td>Mustang</td>\n",
       "      <td>2017</td>\n",
       "      <td>20000</td>\n",
       "      <td>Petrol</td>\n",
       "      <td>Automatic</td>\n",
       "      <td>First</td>\n",
       "      <td>10</td>\n",
       "      <td>4951</td>\n",
       "      <td>395</td>\n",
       "      <td>4</td>\n",
       "      <td>2500000</td>\n",
       "    </tr>\n",
       "    <tr>\n",
       "      <th>3</th>\n",
       "      <td>4</td>\n",
       "      <td>Maruti</td>\n",
       "      <td>Swift</td>\n",
       "      <td>2020</td>\n",
       "      <td>30000</td>\n",
       "      <td>Diesel</td>\n",
       "      <td>Manual</td>\n",
       "      <td>Third</td>\n",
       "      <td>23</td>\n",
       "      <td>1248</td>\n",
       "      <td>74</td>\n",
       "      <td>5</td>\n",
       "      <td>600000</td>\n",
       "    </tr>\n",
       "    <tr>\n",
       "      <th>4</th>\n",
       "      <td>5</td>\n",
       "      <td>Hyundai</td>\n",
       "      <td>Sonata</td>\n",
       "      <td>2016</td>\n",
       "      <td>60000</td>\n",
       "      <td>Diesel</td>\n",
       "      <td>Automatic</td>\n",
       "      <td>Second</td>\n",
       "      <td>18</td>\n",
       "      <td>1999</td>\n",
       "      <td>194</td>\n",
       "      <td>5</td>\n",
       "      <td>850000</td>\n",
       "    </tr>\n",
       "    <tr>\n",
       "      <th>...</th>\n",
       "      <td>...</td>\n",
       "      <td>...</td>\n",
       "      <td>...</td>\n",
       "      <td>...</td>\n",
       "      <td>...</td>\n",
       "      <td>...</td>\n",
       "      <td>...</td>\n",
       "      <td>...</td>\n",
       "      <td>...</td>\n",
       "      <td>...</td>\n",
       "      <td>...</td>\n",
       "      <td>...</td>\n",
       "      <td>...</td>\n",
       "    </tr>\n",
       "    <tr>\n",
       "      <th>95</th>\n",
       "      <td>96</td>\n",
       "      <td>Mercedes</td>\n",
       "      <td>C-Class</td>\n",
       "      <td>2019</td>\n",
       "      <td>22000</td>\n",
       "      <td>Diesel</td>\n",
       "      <td>Automatic</td>\n",
       "      <td>First</td>\n",
       "      <td>16</td>\n",
       "      <td>1950</td>\n",
       "      <td>191</td>\n",
       "      <td>5</td>\n",
       "      <td>2900000</td>\n",
       "    </tr>\n",
       "    <tr>\n",
       "      <th>96</th>\n",
       "      <td>97</td>\n",
       "      <td>Toyota</td>\n",
       "      <td>Innova Crysta</td>\n",
       "      <td>2017</td>\n",
       "      <td>38000</td>\n",
       "      <td>Diesel</td>\n",
       "      <td>Manual</td>\n",
       "      <td>Second</td>\n",
       "      <td>13</td>\n",
       "      <td>2755</td>\n",
       "      <td>171</td>\n",
       "      <td>7</td>\n",
       "      <td>1400000</td>\n",
       "    </tr>\n",
       "    <tr>\n",
       "      <th>97</th>\n",
       "      <td>98</td>\n",
       "      <td>Ford</td>\n",
       "      <td>EcoSport</td>\n",
       "      <td>2018</td>\n",
       "      <td>26000</td>\n",
       "      <td>Petrol</td>\n",
       "      <td>Manual</td>\n",
       "      <td>Third</td>\n",
       "      <td>18</td>\n",
       "      <td>1497</td>\n",
       "      <td>121</td>\n",
       "      <td>5</td>\n",
       "      <td>750000</td>\n",
       "    </tr>\n",
       "    <tr>\n",
       "      <th>98</th>\n",
       "      <td>99</td>\n",
       "      <td>Hyundai</td>\n",
       "      <td>Verna</td>\n",
       "      <td>2019</td>\n",
       "      <td>24000</td>\n",
       "      <td>Petrol</td>\n",
       "      <td>Automatic</td>\n",
       "      <td>Second</td>\n",
       "      <td>17</td>\n",
       "      <td>1497</td>\n",
       "      <td>113</td>\n",
       "      <td>5</td>\n",
       "      <td>850000</td>\n",
       "    </tr>\n",
       "    <tr>\n",
       "      <th>99</th>\n",
       "      <td>100</td>\n",
       "      <td>Tata</td>\n",
       "      <td>Altroz</td>\n",
       "      <td>2020</td>\n",
       "      <td>18000</td>\n",
       "      <td>Petrol</td>\n",
       "      <td>Manual</td>\n",
       "      <td>First</td>\n",
       "      <td>20</td>\n",
       "      <td>1199</td>\n",
       "      <td>85</td>\n",
       "      <td>5</td>\n",
       "      <td>600000</td>\n",
       "    </tr>\n",
       "  </tbody>\n",
       "</table>\n",
       "<p>100 rows × 13 columns</p>\n",
       "</div>"
      ],
      "text/plain": [
       "    Car_ID     Brand          Model  Year  Kilometers_Driven Fuel_Type  \\\n",
       "0        1    Toyota        Corolla  2018              50000    Petrol   \n",
       "1        2     Honda          Civic  2019              40000    Petrol   \n",
       "2        3      Ford        Mustang  2017              20000    Petrol   \n",
       "3        4    Maruti          Swift  2020              30000    Diesel   \n",
       "4        5   Hyundai         Sonata  2016              60000    Diesel   \n",
       "..     ...       ...            ...   ...                ...       ...   \n",
       "95      96  Mercedes        C-Class  2019              22000    Diesel   \n",
       "96      97    Toyota  Innova Crysta  2017              38000    Diesel   \n",
       "97      98      Ford       EcoSport  2018              26000    Petrol   \n",
       "98      99   Hyundai          Verna  2019              24000    Petrol   \n",
       "99     100      Tata         Altroz  2020              18000    Petrol   \n",
       "\n",
       "   Transmission Owner_Type  Mileage  Engine  Power  Seats    Price  \n",
       "0        Manual      First       15    1498    108      5   800000  \n",
       "1     Automatic     Second       17    1597    140      5  1000000  \n",
       "2     Automatic      First       10    4951    395      4  2500000  \n",
       "3        Manual      Third       23    1248     74      5   600000  \n",
       "4     Automatic     Second       18    1999    194      5   850000  \n",
       "..          ...        ...      ...     ...    ...    ...      ...  \n",
       "95    Automatic      First       16    1950    191      5  2900000  \n",
       "96       Manual     Second       13    2755    171      7  1400000  \n",
       "97       Manual      Third       18    1497    121      5   750000  \n",
       "98    Automatic     Second       17    1497    113      5   850000  \n",
       "99       Manual      First       20    1199     85      5   600000  \n",
       "\n",
       "[100 rows x 13 columns]"
      ]
     },
     "execution_count": 15,
     "metadata": {},
     "output_type": "execute_result"
    }
   ],
   "source": [
    "df.drop_duplicates()"
   ]
  },
  {
   "cell_type": "markdown",
   "id": "085d6472-1252-45fe-9727-6692b6c6f228",
   "metadata": {},
   "source": [
    "## Data Access using Pandas"
   ]
  },
  {
   "cell_type": "code",
   "execution_count": 16,
   "id": "59e95ff2-99ae-4f9c-91ec-70dd959ee455",
   "metadata": {},
   "outputs": [
    {
     "name": "stdout",
     "output_type": "stream",
     "text": [
      "0    Corolla\n",
      "1      Civic\n",
      "2    Mustang\n",
      "3      Swift\n",
      "4     Sonata\n",
      "5      Nexon\n",
      "6    Scorpio\n",
      "7       Polo\n",
      "8         A4\n",
      "9         X1\n",
      "Name: Model, dtype: object\n"
     ]
    }
   ],
   "source": [
    "print(df[0:10]['Model']) # Indexing within a Range"
   ]
  },
  {
   "cell_type": "code",
   "execution_count": 17,
   "id": "3247b306-4d81-4e99-a51f-bec3b5f8b042",
   "metadata": {},
   "outputs": [
    {
     "name": "stdout",
     "output_type": "stream",
     "text": [
      "0           Corolla\n",
      "1             Civic\n",
      "2           Mustang\n",
      "3             Swift\n",
      "4            Sonata\n",
      "          ...      \n",
      "95          C-Class\n",
      "96    Innova Crysta\n",
      "97         EcoSport\n",
      "98            Verna\n",
      "99           Altroz\n",
      "Name: Model, Length: 100, dtype: object\n"
     ]
    }
   ],
   "source": [
    "print(df[:]['Model']) # Indexing for All Values"
   ]
  },
  {
   "cell_type": "code",
   "execution_count": 18,
   "id": "961bff57-08bc-43db-bf39-4fa34f4a0ae9",
   "metadata": {},
   "outputs": [
    {
     "name": "stdout",
     "output_type": "stream",
     "text": [
      "0    Corolla\n",
      "2    Mustang\n",
      "4     Sonata\n",
      "6    Scorpio\n",
      "8         A4\n",
      "Name: Model, dtype: object\n"
     ]
    }
   ],
   "source": [
    "print(df[0:10:2]['Model']) # Indexing Using Intervals"
   ]
  },
  {
   "cell_type": "code",
   "execution_count": 19,
   "id": "e360b95e-a3bd-43bf-b23d-5cc2d5a7134b",
   "metadata": {},
   "outputs": [
    {
     "name": "stdout",
     "output_type": "stream",
     "text": [
      "10    C-Class\n",
      "9          X1\n",
      "8          A4\n",
      "7        Polo\n",
      "6     Scorpio\n",
      "5       Nexon\n",
      "4      Sonata\n",
      "3       Swift\n",
      "2     Mustang\n",
      "1       Civic\n",
      "Name: Model, dtype: object\n"
     ]
    }
   ],
   "source": [
    "print(df[10:0:-1]['Model'])  #Negative Indexing"
   ]
  },
  {
   "cell_type": "markdown",
   "id": "42c17ad5-1450-4bf4-85e1-5b22a6efac4a",
   "metadata": {},
   "source": [
    "NOTE:  'loc' property is used to access a group of rows and columns by label(s)"
   ]
  },
  {
   "cell_type": "raw",
   "id": "ddc1690a-d25a-4a8e-8efa-aacb61af13db",
   "metadata": {},
   "source": [
    "#### Loc Method\n",
    "\n",
    "Syntax:\n",
    ">loc [  {Interval Specifier ::}  , [  {List of Columns to Access}  ] ]"
   ]
  },
  {
   "cell_type": "code",
   "execution_count": 20,
   "id": "f95ec276-55d8-49f3-967c-65c53b2ded0c",
   "metadata": {},
   "outputs": [
    {
     "data": {
      "text/html": [
       "<div>\n",
       "<style scoped>\n",
       "    .dataframe tbody tr th:only-of-type {\n",
       "        vertical-align: middle;\n",
       "    }\n",
       "\n",
       "    .dataframe tbody tr th {\n",
       "        vertical-align: top;\n",
       "    }\n",
       "\n",
       "    .dataframe thead th {\n",
       "        text-align: right;\n",
       "    }\n",
       "</style>\n",
       "<table border=\"1\" class=\"dataframe\">\n",
       "  <thead>\n",
       "    <tr style=\"text-align: right;\">\n",
       "      <th></th>\n",
       "      <th>Model</th>\n",
       "      <th>Brand</th>\n",
       "    </tr>\n",
       "  </thead>\n",
       "  <tbody>\n",
       "    <tr>\n",
       "      <th>0</th>\n",
       "      <td>Corolla</td>\n",
       "      <td>Toyota</td>\n",
       "    </tr>\n",
       "    <tr>\n",
       "      <th>1</th>\n",
       "      <td>Civic</td>\n",
       "      <td>Honda</td>\n",
       "    </tr>\n",
       "    <tr>\n",
       "      <th>2</th>\n",
       "      <td>Mustang</td>\n",
       "      <td>Ford</td>\n",
       "    </tr>\n",
       "    <tr>\n",
       "      <th>3</th>\n",
       "      <td>Swift</td>\n",
       "      <td>Maruti</td>\n",
       "    </tr>\n",
       "    <tr>\n",
       "      <th>4</th>\n",
       "      <td>Sonata</td>\n",
       "      <td>Hyundai</td>\n",
       "    </tr>\n",
       "    <tr>\n",
       "      <th>...</th>\n",
       "      <td>...</td>\n",
       "      <td>...</td>\n",
       "    </tr>\n",
       "    <tr>\n",
       "      <th>95</th>\n",
       "      <td>C-Class</td>\n",
       "      <td>Mercedes</td>\n",
       "    </tr>\n",
       "    <tr>\n",
       "      <th>96</th>\n",
       "      <td>Innova Crysta</td>\n",
       "      <td>Toyota</td>\n",
       "    </tr>\n",
       "    <tr>\n",
       "      <th>97</th>\n",
       "      <td>EcoSport</td>\n",
       "      <td>Ford</td>\n",
       "    </tr>\n",
       "    <tr>\n",
       "      <th>98</th>\n",
       "      <td>Verna</td>\n",
       "      <td>Hyundai</td>\n",
       "    </tr>\n",
       "    <tr>\n",
       "      <th>99</th>\n",
       "      <td>Altroz</td>\n",
       "      <td>Tata</td>\n",
       "    </tr>\n",
       "  </tbody>\n",
       "</table>\n",
       "<p>100 rows × 2 columns</p>\n",
       "</div>"
      ],
      "text/plain": [
       "            Model     Brand\n",
       "0         Corolla    Toyota\n",
       "1           Civic     Honda\n",
       "2         Mustang      Ford\n",
       "3           Swift    Maruti\n",
       "4          Sonata   Hyundai\n",
       "..            ...       ...\n",
       "95        C-Class  Mercedes\n",
       "96  Innova Crysta    Toyota\n",
       "97       EcoSport      Ford\n",
       "98          Verna   Hyundai\n",
       "99         Altroz      Tata\n",
       "\n",
       "[100 rows x 2 columns]"
      ]
     },
     "execution_count": 20,
     "metadata": {},
     "output_type": "execute_result"
    }
   ],
   "source": [
    "df.loc[:,['Model', 'Brand']] # You don't need to use print, but you can... but why would you..."
   ]
  },
  {
   "cell_type": "code",
   "execution_count": 21,
   "id": "78c7b96d-4548-4d2c-bf47-89e1082691ad",
   "metadata": {},
   "outputs": [
    {
     "data": {
      "text/html": [
       "<div>\n",
       "<style scoped>\n",
       "    .dataframe tbody tr th:only-of-type {\n",
       "        vertical-align: middle;\n",
       "    }\n",
       "\n",
       "    .dataframe tbody tr th {\n",
       "        vertical-align: top;\n",
       "    }\n",
       "\n",
       "    .dataframe thead th {\n",
       "        text-align: right;\n",
       "    }\n",
       "</style>\n",
       "<table border=\"1\" class=\"dataframe\">\n",
       "  <thead>\n",
       "    <tr style=\"text-align: right;\">\n",
       "      <th></th>\n",
       "      <th>Model</th>\n",
       "      <th>Brand</th>\n",
       "    </tr>\n",
       "  </thead>\n",
       "  <tbody>\n",
       "    <tr>\n",
       "      <th>1</th>\n",
       "      <td>Civic</td>\n",
       "      <td>Honda</td>\n",
       "    </tr>\n",
       "    <tr>\n",
       "      <th>3</th>\n",
       "      <td>Swift</td>\n",
       "      <td>Maruti</td>\n",
       "    </tr>\n",
       "    <tr>\n",
       "      <th>5</th>\n",
       "      <td>Nexon</td>\n",
       "      <td>Tata</td>\n",
       "    </tr>\n",
       "    <tr>\n",
       "      <th>7</th>\n",
       "      <td>Polo</td>\n",
       "      <td>Volkswagen</td>\n",
       "    </tr>\n",
       "    <tr>\n",
       "      <th>9</th>\n",
       "      <td>X1</td>\n",
       "      <td>BMW</td>\n",
       "    </tr>\n",
       "  </tbody>\n",
       "</table>\n",
       "</div>"
      ],
      "text/plain": [
       "   Model       Brand\n",
       "1  Civic       Honda\n",
       "3  Swift      Maruti\n",
       "5  Nexon        Tata\n",
       "7   Polo  Volkswagen\n",
       "9     X1         BMW"
      ]
     },
     "execution_count": 21,
     "metadata": {},
     "output_type": "execute_result"
    }
   ],
   "source": [
    "df.loc[[1, 3, 5, 7, 9],['Model', 'Brand']] # Accessing a list of Specified indexes"
   ]
  },
  {
   "cell_type": "markdown",
   "id": "3a84915a-e616-4a7d-b810-7310c3f13476",
   "metadata": {},
   "source": [
    "## Data Encoding"
   ]
  },
  {
   "cell_type": "code",
   "execution_count": 22,
   "id": "81d10cfe-17f5-4caf-a01d-65482a62639b",
   "metadata": {},
   "outputs": [],
   "source": [
    "new_df = df.loc[:, ['Transmission', 'Owner_Type']]"
   ]
  },
  {
   "cell_type": "code",
   "execution_count": 23,
   "id": "b91a0f87-58a5-498d-8982-3fbde321b629",
   "metadata": {},
   "outputs": [
    {
     "data": {
      "text/html": [
       "<div>\n",
       "<style scoped>\n",
       "    .dataframe tbody tr th:only-of-type {\n",
       "        vertical-align: middle;\n",
       "    }\n",
       "\n",
       "    .dataframe tbody tr th {\n",
       "        vertical-align: top;\n",
       "    }\n",
       "\n",
       "    .dataframe thead th {\n",
       "        text-align: right;\n",
       "    }\n",
       "</style>\n",
       "<table border=\"1\" class=\"dataframe\">\n",
       "  <thead>\n",
       "    <tr style=\"text-align: right;\">\n",
       "      <th></th>\n",
       "      <th>Transmission</th>\n",
       "      <th>Owner_Type</th>\n",
       "    </tr>\n",
       "  </thead>\n",
       "  <tbody>\n",
       "    <tr>\n",
       "      <th>0</th>\n",
       "      <td>Manual</td>\n",
       "      <td>First</td>\n",
       "    </tr>\n",
       "    <tr>\n",
       "      <th>1</th>\n",
       "      <td>Automatic</td>\n",
       "      <td>Second</td>\n",
       "    </tr>\n",
       "    <tr>\n",
       "      <th>2</th>\n",
       "      <td>Automatic</td>\n",
       "      <td>First</td>\n",
       "    </tr>\n",
       "    <tr>\n",
       "      <th>3</th>\n",
       "      <td>Manual</td>\n",
       "      <td>Third</td>\n",
       "    </tr>\n",
       "    <tr>\n",
       "      <th>4</th>\n",
       "      <td>Automatic</td>\n",
       "      <td>Second</td>\n",
       "    </tr>\n",
       "    <tr>\n",
       "      <th>...</th>\n",
       "      <td>...</td>\n",
       "      <td>...</td>\n",
       "    </tr>\n",
       "    <tr>\n",
       "      <th>95</th>\n",
       "      <td>Automatic</td>\n",
       "      <td>First</td>\n",
       "    </tr>\n",
       "    <tr>\n",
       "      <th>96</th>\n",
       "      <td>Manual</td>\n",
       "      <td>Second</td>\n",
       "    </tr>\n",
       "    <tr>\n",
       "      <th>97</th>\n",
       "      <td>Manual</td>\n",
       "      <td>Third</td>\n",
       "    </tr>\n",
       "    <tr>\n",
       "      <th>98</th>\n",
       "      <td>Automatic</td>\n",
       "      <td>Second</td>\n",
       "    </tr>\n",
       "    <tr>\n",
       "      <th>99</th>\n",
       "      <td>Manual</td>\n",
       "      <td>First</td>\n",
       "    </tr>\n",
       "  </tbody>\n",
       "</table>\n",
       "<p>100 rows × 2 columns</p>\n",
       "</div>"
      ],
      "text/plain": [
       "   Transmission Owner_Type\n",
       "0        Manual      First\n",
       "1     Automatic     Second\n",
       "2     Automatic      First\n",
       "3        Manual      Third\n",
       "4     Automatic     Second\n",
       "..          ...        ...\n",
       "95    Automatic      First\n",
       "96       Manual     Second\n",
       "97       Manual      Third\n",
       "98    Automatic     Second\n",
       "99       Manual      First\n",
       "\n",
       "[100 rows x 2 columns]"
      ]
     },
     "execution_count": 23,
     "metadata": {},
     "output_type": "execute_result"
    }
   ],
   "source": [
    "new_df"
   ]
  },
  {
   "cell_type": "markdown",
   "id": "10054c23-4cc0-471e-87fb-ba493e131e55",
   "metadata": {},
   "source": [
    "Here, we are able to encode the above columns, since each columns takes a specified value out of a finite domain.\n",
    "> Eg, Transmission :: Manual == 1 and Automatic == 0\n",
    "\n",
    "> Eg, Owner_Type :: First = 1, Second = 2, Third = 3, etc. "
   ]
  },
  {
   "cell_type": "markdown",
   "id": "0397fd14-a33e-40d3-ac53-85bb3e84703d",
   "metadata": {},
   "source": [
    "For encoding process, we use label encoders. It is a method that converts categorical data into encoded numerical data, of 0 to n-1, where 'n' is the total number of categories present in the dataset.\n",
    "\n",
    "Dependencies:\n",
    "> from sklearn.preprocessing import LabelEncoder"
   ]
  },
  {
   "cell_type": "code",
   "execution_count": 24,
   "id": "3c06c492-9660-4c7b-aecb-a0b87f9698c1",
   "metadata": {},
   "outputs": [],
   "source": [
    "from sklearn.preprocessing import LabelEncoder\n",
    "le = LabelEncoder()"
   ]
  },
  {
   "cell_type": "code",
   "execution_count": 25,
   "id": "46e8932d-c5d7-426b-955b-3918bc552fdd",
   "metadata": {},
   "outputs": [
    {
     "name": "stdout",
     "output_type": "stream",
     "text": [
      "[1 0 0 1 0 1 0 0 0 0 0 0 1 0 1 1 0 0 0 0 1 1 0 1 1 0 0 0 0 0 1 0 1 1 1 0 0\n",
      " 0 0 1 1 1 1 0 1 0 0 0 0 0 0 1 1 1 1 0 0 0 1 1 0 1 1 0 0 0 0 0 1 0 1 1 1 0\n",
      " 0 0 0 1 1 1 1 0 1 0 0 0 0 0 0 1 1 1 1 0 0 0 1 1 0 1]\n"
     ]
    }
   ],
   "source": [
    "transmission_encoded = le.fit_transform(new_df['Transmission'])\n",
    "print(transmission_encoded)"
   ]
  },
  {
   "cell_type": "code",
   "execution_count": 26,
   "id": "530cab98-e242-4942-aaf6-d9901406fdc9",
   "metadata": {},
   "outputs": [],
   "source": [
    "#To add this encoded column to the new dataframe\n",
    "new_df['Transmission Encoded'] = le.fit_transform(new_df['Transmission'])\n",
    "new_df['Owner_Type Encoded'] = le.fit_transform(new_df['Owner_Type'])"
   ]
  },
  {
   "cell_type": "code",
   "execution_count": 27,
   "id": "6df60219-e143-4dac-af02-f759aab3d674",
   "metadata": {},
   "outputs": [
    {
     "data": {
      "text/plain": [
       "<bound method Series.unique of 0      First\n",
       "1     Second\n",
       "2      First\n",
       "3      Third\n",
       "4     Second\n",
       "       ...  \n",
       "95     First\n",
       "96    Second\n",
       "97     Third\n",
       "98    Second\n",
       "99     First\n",
       "Name: Owner_Type, Length: 100, dtype: object>"
      ]
     },
     "execution_count": 27,
     "metadata": {},
     "output_type": "execute_result"
    }
   ],
   "source": [
    "new_df['Owner_Type'].unique"
   ]
  },
  {
   "cell_type": "markdown",
   "id": "bfd8eef8-3b34-47b3-a2da-7de010d81854",
   "metadata": {},
   "source": [
    "## Merging and Data Integration\n",
    "\n",
    "Merge Method for Combination of two dataframes:\n",
    "> pd.merge(df1, df2, on='CommonCol') # Default how = 'inner'"
   ]
  },
  {
   "attachments": {
    "535b9d7a-035f-4594-b669-016c660dd862.png": {
     "image/png": "[encoded data removed]"
    }
   },
   "cell_type": "markdown",
   "id": "0c6b363e-448c-4d8e-9ca7-3ac57ccdb565",
   "metadata": {},
   "source": [
    "#### Data Integration\n",
    "Merging / Joining:\n",
    "1. Outer Join\n",
    "   > Union of two sets\n",
    "2. Inner Join\n",
    "   >Intersection of the Two Sets\n",
    "\n",
    "   \n",
    "![image.png](attachment:535b9d7a-035f-4594-b669-016c660dd862.png)\n",
    "\n",
    "//Left Join will use Left Table data, and look for matches in right table, if not found then shows NaN.\n",
    "//Vice Versa for Right Join"
   ]
  },
  {
   "attachments": {
    "c28f4980-0e0c-4881-91a6-4b050f477c7c.png": {
     "image/png": "[encoded data removed]"
    }
   },
   "cell_type": "markdown",
   "id": "e95574b1-fe79-4478-bc91-257eb910ac27",
   "metadata": {},
   "source": [
    "![image.png](attachment:c28f4980-0e0c-4881-91a6-4b050f477c7c.png)"
   ]
  },
  {
   "cell_type": "code",
   "execution_count": 28,
   "id": "f5a5dd83-252f-4241-abb4-73dcf35a6da8",
   "metadata": {},
   "outputs": [],
   "source": [
    "data1 = {\n",
    "    'ID' : [1, 2, 3], \n",
    "    'Name' : ['Max', 'Carlos', 'Daniel']\n",
    "        }\n",
    "\n",
    "data2 = {\n",
    "    'ID' : [2, 3, 4], \n",
    "    'Team' : ['Ferrari', 'TorroRosso', 'Sauber'], \n",
    "    'Wins' : [2, 1, 0]\n",
    "        }\n",
    "\n",
    "df1 = pd.DataFrame(data1)\n",
    "df2 = pd.DataFrame(data2)"
   ]
  },
  {
   "cell_type": "code",
   "execution_count": 29,
   "id": "8aaf47f5-e44e-434e-b4b8-5f7e673abb53",
   "metadata": {},
   "outputs": [
    {
     "data": {
      "text/html": [
       "<div>\n",
       "<style scoped>\n",
       "    .dataframe tbody tr th:only-of-type {\n",
       "        vertical-align: middle;\n",
       "    }\n",
       "\n",
       "    .dataframe tbody tr th {\n",
       "        vertical-align: top;\n",
       "    }\n",
       "\n",
       "    .dataframe thead th {\n",
       "        text-align: right;\n",
       "    }\n",
       "</style>\n",
       "<table border=\"1\" class=\"dataframe\">\n",
       "  <thead>\n",
       "    <tr style=\"text-align: right;\">\n",
       "      <th></th>\n",
       "      <th>ID</th>\n",
       "      <th>Name</th>\n",
       "    </tr>\n",
       "  </thead>\n",
       "  <tbody>\n",
       "    <tr>\n",
       "      <th>0</th>\n",
       "      <td>1</td>\n",
       "      <td>Max</td>\n",
       "    </tr>\n",
       "    <tr>\n",
       "      <th>1</th>\n",
       "      <td>2</td>\n",
       "      <td>Carlos</td>\n",
       "    </tr>\n",
       "    <tr>\n",
       "      <th>2</th>\n",
       "      <td>3</td>\n",
       "      <td>Daniel</td>\n",
       "    </tr>\n",
       "  </tbody>\n",
       "</table>\n",
       "</div>"
      ],
      "text/plain": [
       "   ID    Name\n",
       "0   1     Max\n",
       "1   2  Carlos\n",
       "2   3  Daniel"
      ]
     },
     "execution_count": 29,
     "metadata": {},
     "output_type": "execute_result"
    }
   ],
   "source": [
    "df1"
   ]
  },
  {
   "cell_type": "code",
   "execution_count": 30,
   "id": "d29e0198-168d-42e3-ae35-31ab297fe7c2",
   "metadata": {},
   "outputs": [
    {
     "data": {
      "text/html": [
       "<div>\n",
       "<style scoped>\n",
       "    .dataframe tbody tr th:only-of-type {\n",
       "        vertical-align: middle;\n",
       "    }\n",
       "\n",
       "    .dataframe tbody tr th {\n",
       "        vertical-align: top;\n",
       "    }\n",
       "\n",
       "    .dataframe thead th {\n",
       "        text-align: right;\n",
       "    }\n",
       "</style>\n",
       "<table border=\"1\" class=\"dataframe\">\n",
       "  <thead>\n",
       "    <tr style=\"text-align: right;\">\n",
       "      <th></th>\n",
       "      <th>ID</th>\n",
       "      <th>Team</th>\n",
       "      <th>Wins</th>\n",
       "    </tr>\n",
       "  </thead>\n",
       "  <tbody>\n",
       "    <tr>\n",
       "      <th>0</th>\n",
       "      <td>2</td>\n",
       "      <td>Ferrari</td>\n",
       "      <td>2</td>\n",
       "    </tr>\n",
       "    <tr>\n",
       "      <th>1</th>\n",
       "      <td>3</td>\n",
       "      <td>TorroRosso</td>\n",
       "      <td>1</td>\n",
       "    </tr>\n",
       "    <tr>\n",
       "      <th>2</th>\n",
       "      <td>4</td>\n",
       "      <td>Sauber</td>\n",
       "      <td>0</td>\n",
       "    </tr>\n",
       "  </tbody>\n",
       "</table>\n",
       "</div>"
      ],
      "text/plain": [
       "   ID        Team  Wins\n",
       "0   2     Ferrari     2\n",
       "1   3  TorroRosso     1\n",
       "2   4      Sauber     0"
      ]
     },
     "execution_count": 30,
     "metadata": {},
     "output_type": "execute_result"
    }
   ],
   "source": [
    "df2"
   ]
  },
  {
   "cell_type": "code",
   "execution_count": 31,
   "id": "7eb733fb-3960-4e9a-bbba-93db95a31e36",
   "metadata": {},
   "outputs": [
    {
     "data": {
      "text/html": [
       "<div>\n",
       "<style scoped>\n",
       "    .dataframe tbody tr th:only-of-type {\n",
       "        vertical-align: middle;\n",
       "    }\n",
       "\n",
       "    .dataframe tbody tr th {\n",
       "        vertical-align: top;\n",
       "    }\n",
       "\n",
       "    .dataframe thead th {\n",
       "        text-align: right;\n",
       "    }\n",
       "</style>\n",
       "<table border=\"1\" class=\"dataframe\">\n",
       "  <thead>\n",
       "    <tr style=\"text-align: right;\">\n",
       "      <th></th>\n",
       "      <th>ID</th>\n",
       "      <th>Name</th>\n",
       "      <th>Team</th>\n",
       "      <th>Wins</th>\n",
       "    </tr>\n",
       "  </thead>\n",
       "  <tbody>\n",
       "    <tr>\n",
       "      <th>0</th>\n",
       "      <td>2</td>\n",
       "      <td>Carlos</td>\n",
       "      <td>Ferrari</td>\n",
       "      <td>2</td>\n",
       "    </tr>\n",
       "    <tr>\n",
       "      <th>1</th>\n",
       "      <td>3</td>\n",
       "      <td>Daniel</td>\n",
       "      <td>TorroRosso</td>\n",
       "      <td>1</td>\n",
       "    </tr>\n",
       "  </tbody>\n",
       "</table>\n",
       "</div>"
      ],
      "text/plain": [
       "   ID    Name        Team  Wins\n",
       "0   2  Carlos     Ferrari     2\n",
       "1   3  Daniel  TorroRosso     1"
      ]
     },
     "execution_count": 31,
     "metadata": {},
     "output_type": "execute_result"
    }
   ],
   "source": [
    "merged_df = pd.merge(df1, df2, on = 'ID')\n",
    "merged_df"
   ]
  },
  {
   "cell_type": "code",
   "execution_count": 32,
   "id": "592b57a7-8989-42dc-bec7-90020fa98f7a",
   "metadata": {},
   "outputs": [
    {
     "data": {
      "text/html": [
       "<div>\n",
       "<style scoped>\n",
       "    .dataframe tbody tr th:only-of-type {\n",
       "        vertical-align: middle;\n",
       "    }\n",
       "\n",
       "    .dataframe tbody tr th {\n",
       "        vertical-align: top;\n",
       "    }\n",
       "\n",
       "    .dataframe thead th {\n",
       "        text-align: right;\n",
       "    }\n",
       "</style>\n",
       "<table border=\"1\" class=\"dataframe\">\n",
       "  <thead>\n",
       "    <tr style=\"text-align: right;\">\n",
       "      <th></th>\n",
       "      <th>ID</th>\n",
       "      <th>Name</th>\n",
       "      <th>Team</th>\n",
       "      <th>Wins</th>\n",
       "    </tr>\n",
       "  </thead>\n",
       "  <tbody>\n",
       "    <tr>\n",
       "      <th>0</th>\n",
       "      <td>2</td>\n",
       "      <td>Carlos</td>\n",
       "      <td>Ferrari</td>\n",
       "      <td>2</td>\n",
       "    </tr>\n",
       "    <tr>\n",
       "      <th>1</th>\n",
       "      <td>3</td>\n",
       "      <td>Daniel</td>\n",
       "      <td>TorroRosso</td>\n",
       "      <td>1</td>\n",
       "    </tr>\n",
       "  </tbody>\n",
       "</table>\n",
       "</div>"
      ],
      "text/plain": [
       "   ID    Name        Team  Wins\n",
       "0   2  Carlos     Ferrari     2\n",
       "1   3  Daniel  TorroRosso     1"
      ]
     },
     "execution_count": 32,
     "metadata": {},
     "output_type": "execute_result"
    }
   ],
   "source": [
    "inner_df = pd.merge(df1, df2, on = 'ID', how = 'inner')\n",
    "inner_df  ### Note how the default for the 'how' is inner!"
   ]
  },
  {
   "cell_type": "code",
   "execution_count": 33,
   "id": "3a20070f-355d-49f0-a779-52c9661d03a7",
   "metadata": {},
   "outputs": [
    {
     "data": {
      "text/html": [
       "<div>\n",
       "<style scoped>\n",
       "    .dataframe tbody tr th:only-of-type {\n",
       "        vertical-align: middle;\n",
       "    }\n",
       "\n",
       "    .dataframe tbody tr th {\n",
       "        vertical-align: top;\n",
       "    }\n",
       "\n",
       "    .dataframe thead th {\n",
       "        text-align: right;\n",
       "    }\n",
       "</style>\n",
       "<table border=\"1\" class=\"dataframe\">\n",
       "  <thead>\n",
       "    <tr style=\"text-align: right;\">\n",
       "      <th></th>\n",
       "      <th>ID</th>\n",
       "      <th>Name</th>\n",
       "      <th>Team</th>\n",
       "      <th>Wins</th>\n",
       "    </tr>\n",
       "  </thead>\n",
       "  <tbody>\n",
       "    <tr>\n",
       "      <th>0</th>\n",
       "      <td>1</td>\n",
       "      <td>Max</td>\n",
       "      <td>NaN</td>\n",
       "      <td>NaN</td>\n",
       "    </tr>\n",
       "    <tr>\n",
       "      <th>1</th>\n",
       "      <td>2</td>\n",
       "      <td>Carlos</td>\n",
       "      <td>Ferrari</td>\n",
       "      <td>2.0</td>\n",
       "    </tr>\n",
       "    <tr>\n",
       "      <th>2</th>\n",
       "      <td>3</td>\n",
       "      <td>Daniel</td>\n",
       "      <td>TorroRosso</td>\n",
       "      <td>1.0</td>\n",
       "    </tr>\n",
       "    <tr>\n",
       "      <th>3</th>\n",
       "      <td>4</td>\n",
       "      <td>NaN</td>\n",
       "      <td>Sauber</td>\n",
       "      <td>0.0</td>\n",
       "    </tr>\n",
       "  </tbody>\n",
       "</table>\n",
       "</div>"
      ],
      "text/plain": [
       "   ID    Name        Team  Wins\n",
       "0   1     Max         NaN   NaN\n",
       "1   2  Carlos     Ferrari   2.0\n",
       "2   3  Daniel  TorroRosso   1.0\n",
       "3   4     NaN      Sauber   0.0"
      ]
     },
     "execution_count": 33,
     "metadata": {},
     "output_type": "execute_result"
    }
   ],
   "source": [
    "outer_df = pd.merge(df1, df2, on = 'ID', how = 'outer')\n",
    "outer_df"
   ]
  },
  {
   "cell_type": "code",
   "execution_count": 34,
   "id": "fcbc4a8e-b318-4dcd-9582-e79f809c9064",
   "metadata": {
    "scrolled": true
   },
   "outputs": [
    {
     "data": {
      "text/html": [
       "<div>\n",
       "<style scoped>\n",
       "    .dataframe tbody tr th:only-of-type {\n",
       "        vertical-align: middle;\n",
       "    }\n",
       "\n",
       "    .dataframe tbody tr th {\n",
       "        vertical-align: top;\n",
       "    }\n",
       "\n",
       "    .dataframe thead th {\n",
       "        text-align: right;\n",
       "    }\n",
       "</style>\n",
       "<table border=\"1\" class=\"dataframe\">\n",
       "  <thead>\n",
       "    <tr style=\"text-align: right;\">\n",
       "      <th></th>\n",
       "      <th>ID</th>\n",
       "      <th>Name</th>\n",
       "      <th>Team</th>\n",
       "      <th>Wins</th>\n",
       "    </tr>\n",
       "  </thead>\n",
       "  <tbody>\n",
       "    <tr>\n",
       "      <th>0</th>\n",
       "      <td>1</td>\n",
       "      <td>Max</td>\n",
       "      <td>NaN</td>\n",
       "      <td>NaN</td>\n",
       "    </tr>\n",
       "    <tr>\n",
       "      <th>1</th>\n",
       "      <td>2</td>\n",
       "      <td>Carlos</td>\n",
       "      <td>Ferrari</td>\n",
       "      <td>2.0</td>\n",
       "    </tr>\n",
       "    <tr>\n",
       "      <th>2</th>\n",
       "      <td>3</td>\n",
       "      <td>Daniel</td>\n",
       "      <td>TorroRosso</td>\n",
       "      <td>1.0</td>\n",
       "    </tr>\n",
       "  </tbody>\n",
       "</table>\n",
       "</div>"
      ],
      "text/plain": [
       "   ID    Name        Team  Wins\n",
       "0   1     Max         NaN   NaN\n",
       "1   2  Carlos     Ferrari   2.0\n",
       "2   3  Daniel  TorroRosso   1.0"
      ]
     },
     "execution_count": 34,
     "metadata": {},
     "output_type": "execute_result"
    }
   ],
   "source": [
    "left_merge = pd.merge(df1, df2, on = 'ID', how = 'left')\n",
    "left_merge"
   ]
  },
  {
   "cell_type": "code",
   "execution_count": 35,
   "id": "9e9c682a-05dd-4668-a784-d6a197abea9f",
   "metadata": {
    "scrolled": true
   },
   "outputs": [
    {
     "data": {
      "text/html": [
       "<div>\n",
       "<style scoped>\n",
       "    .dataframe tbody tr th:only-of-type {\n",
       "        vertical-align: middle;\n",
       "    }\n",
       "\n",
       "    .dataframe tbody tr th {\n",
       "        vertical-align: top;\n",
       "    }\n",
       "\n",
       "    .dataframe thead th {\n",
       "        text-align: right;\n",
       "    }\n",
       "</style>\n",
       "<table border=\"1\" class=\"dataframe\">\n",
       "  <thead>\n",
       "    <tr style=\"text-align: right;\">\n",
       "      <th></th>\n",
       "      <th>ID</th>\n",
       "      <th>Name</th>\n",
       "      <th>Team</th>\n",
       "      <th>Wins</th>\n",
       "    </tr>\n",
       "  </thead>\n",
       "  <tbody>\n",
       "    <tr>\n",
       "      <th>0</th>\n",
       "      <td>2</td>\n",
       "      <td>Carlos</td>\n",
       "      <td>Ferrari</td>\n",
       "      <td>2</td>\n",
       "    </tr>\n",
       "    <tr>\n",
       "      <th>1</th>\n",
       "      <td>3</td>\n",
       "      <td>Daniel</td>\n",
       "      <td>TorroRosso</td>\n",
       "      <td>1</td>\n",
       "    </tr>\n",
       "    <tr>\n",
       "      <th>2</th>\n",
       "      <td>4</td>\n",
       "      <td>NaN</td>\n",
       "      <td>Sauber</td>\n",
       "      <td>0</td>\n",
       "    </tr>\n",
       "  </tbody>\n",
       "</table>\n",
       "</div>"
      ],
      "text/plain": [
       "   ID    Name        Team  Wins\n",
       "0   2  Carlos     Ferrari     2\n",
       "1   3  Daniel  TorroRosso     1\n",
       "2   4     NaN      Sauber     0"
      ]
     },
     "execution_count": 35,
     "metadata": {},
     "output_type": "execute_result"
    }
   ],
   "source": [
    "right_merge = pd.merge(df1, df2, on = 'ID', how = 'right')\n",
    "right_merge"
   ]
  },
  {
   "cell_type": "code",
   "execution_count": 95,
   "id": "f1a9ef2a-5ea2-4096-bb57-c5fcfa49f067",
   "metadata": {},
   "outputs": [
    {
     "data": {
      "text/html": [
       "<div>\n",
       "<style scoped>\n",
       "    .dataframe tbody tr th:only-of-type {\n",
       "        vertical-align: middle;\n",
       "    }\n",
       "\n",
       "    .dataframe tbody tr th {\n",
       "        vertical-align: top;\n",
       "    }\n",
       "\n",
       "    .dataframe thead th {\n",
       "        text-align: right;\n",
       "    }\n",
       "</style>\n",
       "<table border=\"1\" class=\"dataframe\">\n",
       "  <thead>\n",
       "    <tr style=\"text-align: right;\">\n",
       "      <th></th>\n",
       "      <th>ID</th>\n",
       "      <th>Name</th>\n",
       "      <th>Team</th>\n",
       "      <th>Wins</th>\n",
       "    </tr>\n",
       "  </thead>\n",
       "  <tbody>\n",
       "    <tr>\n",
       "      <th>0</th>\n",
       "      <td>1</td>\n",
       "      <td>Max</td>\n",
       "      <td>NaN</td>\n",
       "      <td>NaN</td>\n",
       "    </tr>\n",
       "    <tr>\n",
       "      <th>1</th>\n",
       "      <td>2</td>\n",
       "      <td>Carlos</td>\n",
       "      <td>NaN</td>\n",
       "      <td>NaN</td>\n",
       "    </tr>\n",
       "    <tr>\n",
       "      <th>2</th>\n",
       "      <td>3</td>\n",
       "      <td>Daniel</td>\n",
       "      <td>NaN</td>\n",
       "      <td>NaN</td>\n",
       "    </tr>\n",
       "    <tr>\n",
       "      <th>0</th>\n",
       "      <td>2</td>\n",
       "      <td>NaN</td>\n",
       "      <td>Ferrari</td>\n",
       "      <td>2.0</td>\n",
       "    </tr>\n",
       "    <tr>\n",
       "      <th>1</th>\n",
       "      <td>3</td>\n",
       "      <td>NaN</td>\n",
       "      <td>TorroRosso</td>\n",
       "      <td>1.0</td>\n",
       "    </tr>\n",
       "    <tr>\n",
       "      <th>2</th>\n",
       "      <td>4</td>\n",
       "      <td>NaN</td>\n",
       "      <td>Sauber</td>\n",
       "      <td>0.0</td>\n",
       "    </tr>\n",
       "  </tbody>\n",
       "</table>\n",
       "</div>"
      ],
      "text/plain": [
       "   ID    Name        Team  Wins\n",
       "0   1     Max         NaN   NaN\n",
       "1   2  Carlos         NaN   NaN\n",
       "2   3  Daniel         NaN   NaN\n",
       "0   2     NaN     Ferrari   2.0\n",
       "1   3     NaN  TorroRosso   1.0\n",
       "2   4     NaN      Sauber   0.0"
      ]
     },
     "execution_count": 95,
     "metadata": {},
     "output_type": "execute_result"
    }
   ],
   "source": [
    "concat_df = pd.concat([df1, df2])\n",
    "concat_df #Appends one df to another, since it takes array as a parameter."
   ]
  },
  {
   "cell_type": "markdown",
   "id": "69d3d5e2-6bbc-4a21-aadf-6899331733d4",
   "metadata": {},
   "source": [
    "## Normalization"
   ]
  },
  {
   "cell_type": "markdown",
   "id": "f5fc9f53-6915-4733-8435-0fe87a0984b3",
   "metadata": {},
   "source": [
    "We normalize data to rescale it, typically within the range of 0 to 1.\n",
    "\n",
    "Normalization is the transformation of a numeric column to a standard scale, useful in machine learning and  data analytics. Without it, features with extreme numeric values will dominate the distribution and cause bias to the learning process. Normalization is used to minimize the effect of anomalous or extreme values.\n",
    "\n",
    "Dependencies:\n",
    "> from sklearn import preprocessing\n"
   ]
  },
  {
   "cell_type": "code",
   "execution_count": 36,
   "id": "471de89f-df56-4c07-be0a-03022d359b85",
   "metadata": {},
   "outputs": [],
   "source": [
    "from sklearn import preprocessing"
   ]
  },
  {
   "cell_type": "code",
   "execution_count": 37,
   "id": "eb360665-01f0-4073-bc77-a4860d6dfc7a",
   "metadata": {},
   "outputs": [],
   "source": [
    "norm_df = df.loc[:, ['Price', 'Mileage', 'Power', 'Seats']]"
   ]
  },
  {
   "cell_type": "code",
   "execution_count": 38,
   "id": "b912c0c1-8c6d-4a2f-82a0-6ea362869744",
   "metadata": {},
   "outputs": [
    {
     "name": "stdout",
     "output_type": "stream",
     "text": [
      "<class 'pandas.core.frame.DataFrame'>\n",
      "RangeIndex: 100 entries, 0 to 99\n",
      "Data columns (total 4 columns):\n",
      " #   Column   Non-Null Count  Dtype\n",
      "---  ------   --------------  -----\n",
      " 0   Price    100 non-null    int64\n",
      " 1   Mileage  100 non-null    int64\n",
      " 2   Power    100 non-null    int64\n",
      " 3   Seats    100 non-null    int64\n",
      "dtypes: int64(4)\n",
      "memory usage: 3.3 KB\n"
     ]
    }
   ],
   "source": [
    "norm_df.info()"
   ]
  },
  {
   "cell_type": "markdown",
   "id": "6cb5cfe1-c06d-43d4-911c-68ba0c0eb37e",
   "metadata": {},
   "source": [
    "#### NOTE\n",
    "The Below Normalization function requires a 2D array, therefore, we are wrapping the 1D array within another array, essentially making it a 2D array"
   ]
  },
  {
   "cell_type": "code",
   "execution_count": 39,
   "id": "9140dbfd-ccf1-4bd8-a40e-d075e448e350",
   "metadata": {},
   "outputs": [
    {
     "data": {
      "text/plain": [
       "array([[0.09464335, 0.09464335, 0.07571468, 0.09464335, 0.09464335,\n",
       "        0.09464335, 0.13250068, 0.09464335, 0.09464335, 0.09464335,\n",
       "        0.09464335, 0.13250068, 0.09464335, 0.09464335, 0.13250068,\n",
       "        0.09464335, 0.09464335, 0.09464335, 0.09464335, 0.09464335,\n",
       "        0.13250068, 0.09464335, 0.09464335, 0.09464335, 0.07571468,\n",
       "        0.09464335, 0.09464335, 0.09464335, 0.09464335, 0.13250068,\n",
       "        0.09464335, 0.09464335, 0.13250068, 0.09464335, 0.09464335,\n",
       "        0.09464335, 0.09464335, 0.09464335, 0.09464335, 0.09464335,\n",
       "        0.09464335, 0.09464335, 0.09464335, 0.09464335, 0.13250068,\n",
       "        0.09464335, 0.13250068, 0.09464335, 0.09464335, 0.09464335,\n",
       "        0.07571468, 0.09464335, 0.09464335, 0.09464335, 0.09464335,\n",
       "        0.09464335, 0.09464335, 0.09464335, 0.13250068, 0.09464335,\n",
       "        0.09464335, 0.09464335, 0.07571468, 0.09464335, 0.09464335,\n",
       "        0.09464335, 0.09464335, 0.13250068, 0.09464335, 0.09464335,\n",
       "        0.13250068, 0.09464335, 0.09464335, 0.09464335, 0.09464335,\n",
       "        0.09464335, 0.09464335, 0.09464335, 0.09464335, 0.09464335,\n",
       "        0.09464335, 0.09464335, 0.13250068, 0.09464335, 0.13250068,\n",
       "        0.09464335, 0.09464335, 0.09464335, 0.07571468, 0.09464335,\n",
       "        0.09464335, 0.09464335, 0.09464335, 0.09464335, 0.09464335,\n",
       "        0.09464335, 0.13250068, 0.09464335, 0.09464335, 0.09464335]])"
      ]
     },
     "execution_count": 39,
     "metadata": {},
     "output_type": "execute_result"
    }
   ],
   "source": [
    "## Normalization\n",
    "new_array = np.array(norm_df['Seats']) \n",
    "normalized_df = preprocessing.normalize([new_array])\n",
    "normalized_df"
   ]
  },
  {
   "cell_type": "markdown",
   "id": "485faabe-5ce7-40a9-8b7b-f31271ad4ee9",
   "metadata": {},
   "source": [
    "## Scaling \n",
    "These are methods of normalization to remove the effect of extreme values on the distribution, or to scale the overall data to a desired range.\n",
    "\n",
    "\n",
    "1. Z- Scaling\n",
    "2. Min-Max Scaling"
   ]
  },
  {
   "cell_type": "code",
   "execution_count": 46,
   "id": "39c1f6f9-8190-4d59-8b1e-ce94bf034e27",
   "metadata": {},
   "outputs": [
    {
     "data": {
      "text/html": [
       "<div>\n",
       "<style scoped>\n",
       "    .dataframe tbody tr th:only-of-type {\n",
       "        vertical-align: middle;\n",
       "    }\n",
       "\n",
       "    .dataframe tbody tr th {\n",
       "        vertical-align: top;\n",
       "    }\n",
       "\n",
       "    .dataframe thead th {\n",
       "        text-align: right;\n",
       "    }\n",
       "</style>\n",
       "<table border=\"1\" class=\"dataframe\">\n",
       "  <thead>\n",
       "    <tr style=\"text-align: right;\">\n",
       "      <th></th>\n",
       "      <th>A</th>\n",
       "      <th>B</th>\n",
       "      <th>C</th>\n",
       "      <th>D</th>\n",
       "    </tr>\n",
       "  </thead>\n",
       "  <tbody>\n",
       "    <tr>\n",
       "      <th>0</th>\n",
       "      <td>1299</td>\n",
       "      <td>1</td>\n",
       "      <td>0.23</td>\n",
       "      <td>100</td>\n",
       "    </tr>\n",
       "    <tr>\n",
       "      <th>1</th>\n",
       "      <td>2003</td>\n",
       "      <td>2</td>\n",
       "      <td>0.01</td>\n",
       "      <td>55</td>\n",
       "    </tr>\n",
       "    <tr>\n",
       "      <th>2</th>\n",
       "      <td>2004</td>\n",
       "      <td>6</td>\n",
       "      <td>0.92</td>\n",
       "      <td>69</td>\n",
       "    </tr>\n",
       "    <tr>\n",
       "      <th>3</th>\n",
       "      <td>1349</td>\n",
       "      <td>3</td>\n",
       "      <td>0.23</td>\n",
       "      <td>130</td>\n",
       "    </tr>\n",
       "  </tbody>\n",
       "</table>\n",
       "</div>"
      ],
      "text/plain": [
       "      A  B     C    D\n",
       "0  1299  1  0.23  100\n",
       "1  2003  2  0.01   55\n",
       "2  2004  6  0.92   69\n",
       "3  1349  3  0.23  130"
      ]
     },
     "execution_count": 46,
     "metadata": {},
     "output_type": "execute_result"
    }
   ],
   "source": [
    "#creating example data\n",
    "\n",
    "mydf = pd.DataFrame([\n",
    "    [1299, 1, 0.23, 100],\n",
    "    [2003, 2, 0.01, 55], \n",
    "    [2004, 6, 0.92, 69],\n",
    "    [1349, 3, 0.23, 130]], \n",
    "    columns = ['A', 'B', 'C', 'D'])\n",
    "\n",
    "mydf"
   ]
  },
  {
   "cell_type": "code",
   "execution_count": 48,
   "id": "dd8b6ac5-2794-4eb2-9737-6f70cb9a062f",
   "metadata": {},
   "outputs": [
    {
     "data": {
      "text/plain": [
       "<Axes: >"
      ]
     },
     "execution_count": 48,
     "metadata": {},
     "output_type": "execute_result"
    },
    {
     "data": {
      "image/png": "[encoded data removed]",
      "text/plain": [
       "<Figure size 640x480 with 1 Axes>"
      ]
     },
     "metadata": {},
     "output_type": "display_data"
    }
   ],
   "source": [
    "mydf.plot(kind = 'bar')"
   ]
  },
  {
   "cell_type": "markdown",
   "id": "505c0b94-985b-4770-a9ab-6d8fb55fdd1b",
   "metadata": {},
   "source": [
    "As seen above, we are not able to interpret this graph properly due to the non-uniform distribution of each value.(B an C are not easily intpretable)\n",
    "To this dataframe, we will apply scaling!"
   ]
  },
  {
   "cell_type": "markdown",
   "id": "d2090d00-7a23-4bb5-b69a-7ea8b2e7de60",
   "metadata": {},
   "source": [
    "### Min Max Scaling\n",
    "This will rescale the data to a scale of [0, 1]\n",
    "\n",
    "Formula:\n",
    "\n",
    ">((X) - minimum value )/ range\n",
    "\n",
    "We use the .min() and .max() methods for their respective use in this formula"
   ]
  },
  {
   "cell_type": "code",
   "execution_count": 50,
   "id": "fe6b8694-82f0-4f8e-be7c-119ab89ca5ec",
   "metadata": {},
   "outputs": [
    {
     "data": {
      "text/html": [
       "<div>\n",
       "<style scoped>\n",
       "    .dataframe tbody tr th:only-of-type {\n",
       "        vertical-align: middle;\n",
       "    }\n",
       "\n",
       "    .dataframe tbody tr th {\n",
       "        vertical-align: top;\n",
       "    }\n",
       "\n",
       "    .dataframe thead th {\n",
       "        text-align: right;\n",
       "    }\n",
       "</style>\n",
       "<table border=\"1\" class=\"dataframe\">\n",
       "  <thead>\n",
       "    <tr style=\"text-align: right;\">\n",
       "      <th></th>\n",
       "      <th>A</th>\n",
       "      <th>B</th>\n",
       "      <th>C</th>\n",
       "      <th>D</th>\n",
       "    </tr>\n",
       "  </thead>\n",
       "  <tbody>\n",
       "    <tr>\n",
       "      <th>0</th>\n",
       "      <td>0.000000</td>\n",
       "      <td>0.0</td>\n",
       "      <td>0.241758</td>\n",
       "      <td>0.600000</td>\n",
       "    </tr>\n",
       "    <tr>\n",
       "      <th>1</th>\n",
       "      <td>0.998582</td>\n",
       "      <td>0.2</td>\n",
       "      <td>0.000000</td>\n",
       "      <td>0.000000</td>\n",
       "    </tr>\n",
       "    <tr>\n",
       "      <th>2</th>\n",
       "      <td>1.000000</td>\n",
       "      <td>1.0</td>\n",
       "      <td>1.000000</td>\n",
       "      <td>0.186667</td>\n",
       "    </tr>\n",
       "    <tr>\n",
       "      <th>3</th>\n",
       "      <td>0.070922</td>\n",
       "      <td>0.4</td>\n",
       "      <td>0.241758</td>\n",
       "      <td>1.000000</td>\n",
       "    </tr>\n",
       "  </tbody>\n",
       "</table>\n",
       "</div>"
      ],
      "text/plain": [
       "          A    B         C         D\n",
       "0  0.000000  0.0  0.241758  0.600000\n",
       "1  0.998582  0.2  0.000000  0.000000\n",
       "2  1.000000  1.0  1.000000  0.186667\n",
       "3  0.070922  0.4  0.241758  1.000000"
      ]
     },
     "execution_count": 50,
     "metadata": {},
     "output_type": "execute_result"
    }
   ],
   "source": [
    "for column in mydf.columns:\n",
    "    mydf[column] = (mydf[column] - mydf[column].min()) /(mydf[column].max() - mydf[column].min())\n",
    "\n",
    "\n",
    "mydf"
   ]
  },
  {
   "cell_type": "code",
   "execution_count": 51,
   "id": "cd51626c-d15c-48bd-a33f-cf159ce0528d",
   "metadata": {},
   "outputs": [
    {
     "data": {
      "text/plain": [
       "<Axes: >"
      ]
     },
     "execution_count": 51,
     "metadata": {},
     "output_type": "execute_result"
    },
    {
     "data": {
      "image/png": "[encoded data removed]",
      "text/plain": [
       "<Figure size 640x480 with 1 Axes>"
      ]
     },
     "metadata": {},
     "output_type": "display_data"
    }
   ],
   "source": [
    "mydf.plot(kind = 'bar')"
   ]
  },
  {
   "cell_type": "markdown",
   "id": "d9923733-2ec7-4ff1-8271-2e5a031aaa7c",
   "metadata": {},
   "source": [
    "### Z Scaling\n",
    "\n",
    "Also known as Standardization, Z Scaling will transform the distribution with a mean of 0 and a stanard deviation of 1.\n",
    "\n",
    "Formula:\n",
    "> Subtract the mean from each corresponding feature, then divide by the standard deviation\n",
    "\n",
    "Methods used:\n",
    "1. .mean() - for calculating mean of an array\n",
    "2. .std() - for calculating the Standard Deviation of the array"
   ]
  },
  {
   "cell_type": "code",
   "execution_count": 53,
   "id": "e80c422c-0969-4f6a-a8cd-7bd1bea3b610",
   "metadata": {},
   "outputs": [
    {
     "data": {
      "text/plain": [
       "<Axes: >"
      ]
     },
     "execution_count": 53,
     "metadata": {},
     "output_type": "execute_result"
    },
    {
     "data": {
      "image/png": "[encoded data removed]",
      "text/plain": [
       "<Figure size 640x480 with 1 Axes>"
      ]
     },
     "metadata": {},
     "output_type": "display_data"
    }
   ],
   "source": [
    "myotherdf = pd.DataFrame([\n",
    "    [1299, 1, 0.23, 100],\n",
    "    [2003, 2, 0.01, 55], \n",
    "    [2004, 6, 0.92, 69],\n",
    "    [1349, 3, 0.23, 130]], \n",
    "    columns = ['A', 'B', 'C', 'D'])\n",
    "\n",
    "myotherdf.plot(kind = 'bar')"
   ]
  },
  {
   "cell_type": "code",
   "execution_count": 55,
   "id": "03e7cfeb-9747-43df-b5bc-b8b9b15289c4",
   "metadata": {},
   "outputs": [
    {
     "data": {
      "text/html": [
       "<div>\n",
       "<style scoped>\n",
       "    .dataframe tbody tr th:only-of-type {\n",
       "        vertical-align: middle;\n",
       "    }\n",
       "\n",
       "    .dataframe tbody tr th {\n",
       "        vertical-align: top;\n",
       "    }\n",
       "\n",
       "    .dataframe thead th {\n",
       "        text-align: right;\n",
       "    }\n",
       "</style>\n",
       "<table border=\"1\" class=\"dataframe\">\n",
       "  <thead>\n",
       "    <tr style=\"text-align: right;\">\n",
       "      <th></th>\n",
       "      <th>A</th>\n",
       "      <th>B</th>\n",
       "      <th>C</th>\n",
       "      <th>D</th>\n",
       "    </tr>\n",
       "  </thead>\n",
       "  <tbody>\n",
       "    <tr>\n",
       "      <th>0</th>\n",
       "      <td>-0.928494</td>\n",
       "      <td>-0.92582</td>\n",
       "      <td>-0.297088</td>\n",
       "      <td>0.343782</td>\n",
       "    </tr>\n",
       "    <tr>\n",
       "      <th>1</th>\n",
       "      <td>0.863582</td>\n",
       "      <td>-0.46291</td>\n",
       "      <td>-0.853337</td>\n",
       "      <td>-1.001451</td>\n",
       "    </tr>\n",
       "    <tr>\n",
       "      <th>2</th>\n",
       "      <td>0.866128</td>\n",
       "      <td>1.38873</td>\n",
       "      <td>1.447513</td>\n",
       "      <td>-0.582934</td>\n",
       "    </tr>\n",
       "    <tr>\n",
       "      <th>3</th>\n",
       "      <td>-0.801216</td>\n",
       "      <td>0.00000</td>\n",
       "      <td>-0.297088</td>\n",
       "      <td>1.240604</td>\n",
       "    </tr>\n",
       "  </tbody>\n",
       "</table>\n",
       "</div>"
      ],
      "text/plain": [
       "          A        B         C         D\n",
       "0 -0.928494 -0.92582 -0.297088  0.343782\n",
       "1  0.863582 -0.46291 -0.853337 -1.001451\n",
       "2  0.866128  1.38873  1.447513 -0.582934\n",
       "3 -0.801216  0.00000 -0.297088  1.240604"
      ]
     },
     "execution_count": 55,
     "metadata": {},
     "output_type": "execute_result"
    }
   ],
   "source": [
    "for column in myotherdf.columns:\n",
    "    myotherdf[column] = (myotherdf[column] - myotherdf[column].mean())/myotherdf[column].std()\n",
    "\n",
    "myotherdf"
   ]
  },
  {
   "cell_type": "code",
   "execution_count": 56,
   "id": "7e4581bc-40b3-49a2-8ae0-5f3f90ecf269",
   "metadata": {
    "scrolled": true
   },
   "outputs": [
    {
     "data": {
      "text/plain": [
       "<Axes: >"
      ]
     },
     "execution_count": 56,
     "metadata": {},
     "output_type": "execute_result"
    },
    {
     "data": {
      "image/png": "[encoded data removed]",
      "text/plain": [
       "<Figure size 640x480 with 1 Axes>"
      ]
     },
     "metadata": {},
     "output_type": "display_data"
    }
   ],
   "source": [
    "myotherdf.plot(kind = 'bar')"
   ]
  },
  {
   "cell_type": "markdown",
   "id": "d53d837d-6e13-469c-b00d-7d28cb88e87c",
   "metadata": {},
   "source": [
    "## Binning\n",
    "\n",
    "Creating classes, based on fixed class intervals"
   ]
  },
  {
   "cell_type": "code",
   "execution_count": 80,
   "id": "7baf07f6-710c-4f69-b9b5-2d4aaad62342",
   "metadata": {},
   "outputs": [
    {
     "data": {
      "text/html": [
       "<div>\n",
       "<style scoped>\n",
       "    .dataframe tbody tr th:only-of-type {\n",
       "        vertical-align: middle;\n",
       "    }\n",
       "\n",
       "    .dataframe tbody tr th {\n",
       "        vertical-align: top;\n",
       "    }\n",
       "\n",
       "    .dataframe thead th {\n",
       "        text-align: right;\n",
       "    }\n",
       "</style>\n",
       "<table border=\"1\" class=\"dataframe\">\n",
       "  <thead>\n",
       "    <tr style=\"text-align: right;\">\n",
       "      <th></th>\n",
       "      <th>Num</th>\n",
       "    </tr>\n",
       "  </thead>\n",
       "  <tbody>\n",
       "    <tr>\n",
       "      <th>0</th>\n",
       "      <td>60</td>\n",
       "    </tr>\n",
       "    <tr>\n",
       "      <th>1</th>\n",
       "      <td>95</td>\n",
       "    </tr>\n",
       "    <tr>\n",
       "      <th>2</th>\n",
       "      <td>68</td>\n",
       "    </tr>\n",
       "    <tr>\n",
       "      <th>3</th>\n",
       "      <td>67</td>\n",
       "    </tr>\n",
       "    <tr>\n",
       "      <th>4</th>\n",
       "      <td>75</td>\n",
       "    </tr>\n",
       "    <tr>\n",
       "      <th>5</th>\n",
       "      <td>29</td>\n",
       "    </tr>\n",
       "    <tr>\n",
       "      <th>6</th>\n",
       "      <td>62</td>\n",
       "    </tr>\n",
       "    <tr>\n",
       "      <th>7</th>\n",
       "      <td>5</td>\n",
       "    </tr>\n",
       "    <tr>\n",
       "      <th>8</th>\n",
       "      <td>79</td>\n",
       "    </tr>\n",
       "    <tr>\n",
       "      <th>9</th>\n",
       "      <td>92</td>\n",
       "    </tr>\n",
       "  </tbody>\n",
       "</table>\n",
       "</div>"
      ],
      "text/plain": [
       "   Num\n",
       "0   60\n",
       "1   95\n",
       "2   68\n",
       "3   67\n",
       "4   75\n",
       "5   29\n",
       "6   62\n",
       "7    5\n",
       "8   79\n",
       "9   92"
      ]
     },
     "execution_count": 80,
     "metadata": {},
     "output_type": "execute_result"
    }
   ],
   "source": [
    "bin_df = pd.DataFrame({'Num' : np.random.randint(1, 100, 10)})  ## parameters of random.randint(<low>, <high>, <number of generations>) #10 in this case\n",
    "bin_df"
   ]
  },
  {
   "cell_type": "code",
   "execution_count": 88,
   "id": "527cd133-9b0f-494f-8889-6342630cda85",
   "metadata": {},
   "outputs": [
    {
     "data": {
      "text/html": [
       "<div>\n",
       "<style scoped>\n",
       "    .dataframe tbody tr th:only-of-type {\n",
       "        vertical-align: middle;\n",
       "    }\n",
       "\n",
       "    .dataframe tbody tr th {\n",
       "        vertical-align: top;\n",
       "    }\n",
       "\n",
       "    .dataframe thead th {\n",
       "        text-align: right;\n",
       "    }\n",
       "</style>\n",
       "<table border=\"1\" class=\"dataframe\">\n",
       "  <thead>\n",
       "    <tr style=\"text-align: right;\">\n",
       "      <th></th>\n",
       "      <th>Num</th>\n",
       "      <th>BinNum</th>\n",
       "    </tr>\n",
       "  </thead>\n",
       "  <tbody>\n",
       "    <tr>\n",
       "      <th>0</th>\n",
       "      <td>60</td>\n",
       "      <td>(50, 60]</td>\n",
       "    </tr>\n",
       "    <tr>\n",
       "      <th>1</th>\n",
       "      <td>95</td>\n",
       "      <td>(90, 100]</td>\n",
       "    </tr>\n",
       "    <tr>\n",
       "      <th>2</th>\n",
       "      <td>68</td>\n",
       "      <td>(60, 70]</td>\n",
       "    </tr>\n",
       "    <tr>\n",
       "      <th>3</th>\n",
       "      <td>67</td>\n",
       "      <td>(60, 70]</td>\n",
       "    </tr>\n",
       "    <tr>\n",
       "      <th>4</th>\n",
       "      <td>75</td>\n",
       "      <td>(70, 80]</td>\n",
       "    </tr>\n",
       "    <tr>\n",
       "      <th>5</th>\n",
       "      <td>29</td>\n",
       "      <td>(20, 30]</td>\n",
       "    </tr>\n",
       "    <tr>\n",
       "      <th>6</th>\n",
       "      <td>62</td>\n",
       "      <td>(60, 70]</td>\n",
       "    </tr>\n",
       "    <tr>\n",
       "      <th>7</th>\n",
       "      <td>5</td>\n",
       "      <td>(0, 10]</td>\n",
       "    </tr>\n",
       "    <tr>\n",
       "      <th>8</th>\n",
       "      <td>79</td>\n",
       "      <td>(70, 80]</td>\n",
       "    </tr>\n",
       "    <tr>\n",
       "      <th>9</th>\n",
       "      <td>92</td>\n",
       "      <td>(90, 100]</td>\n",
       "    </tr>\n",
       "  </tbody>\n",
       "</table>\n",
       "</div>"
      ],
      "text/plain": [
       "   Num     BinNum\n",
       "0   60   (50, 60]\n",
       "1   95  (90, 100]\n",
       "2   68   (60, 70]\n",
       "3   67   (60, 70]\n",
       "4   75   (70, 80]\n",
       "5   29   (20, 30]\n",
       "6   62   (60, 70]\n",
       "7    5    (0, 10]\n",
       "8   79   (70, 80]\n",
       "9   92  (90, 100]"
      ]
     },
     "execution_count": 88,
     "metadata": {},
     "output_type": "execute_result"
    }
   ],
   "source": [
    "bin_df['BinNum'] = pd.cut(x = bin_df['Num'], bins = [0, 10, 20, 30, 40, 50, 60, 70, 80, 90, 100])\n",
    "\n",
    "bin_df"
   ]
  },
  {
   "cell_type": "code",
   "execution_count": 85,
   "id": "c03dd545-d5ad-4a94-9f7c-d793cb93b33f",
   "metadata": {},
   "outputs": [
    {
     "data": {
      "text/plain": [
       "[(50, 60], (90, 100], (60, 70], (70, 80], (20, 30], (0, 10]]\n",
       "Categories (10, interval[int64, right]): [(0, 10] < (10, 20] < (20, 30] < (30, 40] ... (60, 70] < (70, 80] < (80, 90] < (90, 100]]"
      ]
     },
     "execution_count": 85,
     "metadata": {},
     "output_type": "execute_result"
    }
   ],
   "source": [
    "bin_df['BinNum'].unique() # Shows all unique classes available in the dataset"
   ]
  },
  {
   "cell_type": "markdown",
   "id": "f371c588-3bd4-4410-84c8-39511fdbd6e9",
   "metadata": {},
   "source": [
    "## Data Classification and Decision Trees"
   ]
  },
  {
   "cell_type": "markdown",
   "id": "ae8baeb0-cdaa-499a-a382-7601b2a79cc9",
   "metadata": {},
   "source": [
    "## Apriori for Assiciation rule Mining\n",
    "\n",
    "Some Keywords:\n",
    ">Support: How frequently a group of items is bought\n",
    ">Confidence: Given one item, how likely another item is to be bought (Baye's Rule and Beyesian Networks)\n",
    ">Lift: Measures the likelyhood of one item wrt all other items. In other words the frequency of the specific group appearing.\n",
    "\n",
    "Dependencies:\n",
    ">apyori"
   ]
  },
  {
   "cell_type": "code",
   "execution_count": 1,
   "id": "9b47378a-da9e-4829-bdab-9192ed279cde",
   "metadata": {},
   "outputs": [
    {
     "name": "stdout",
     "output_type": "stream",
     "text": [
      "Requirement already satisfied: apyori in c:\\users\\ghana\\anaconda3\\lib\\site-packages (1.1.2)\n"
     ]
    }
   ],
   "source": [
    "!pip install apyori"
   ]
  },
  {
   "cell_type": "code",
   "execution_count": 2,
   "id": "6f57a6ad-6acb-471c-9e0d-4018b1e2a48f",
   "metadata": {},
   "outputs": [],
   "source": [
    "from apyori import apriori #just why"
   ]
  },
  {
   "cell_type": "code",
   "execution_count": 5,
   "id": "55481766-defe-4ea0-8382-ab83d42b6320",
   "metadata": {},
   "outputs": [
    {
     "data": {
      "text/html": [
       "<div>\n",
       "<style scoped>\n",
       "    .dataframe tbody tr th:only-of-type {\n",
       "        vertical-align: middle;\n",
       "    }\n",
       "\n",
       "    .dataframe tbody tr th {\n",
       "        vertical-align: top;\n",
       "    }\n",
       "\n",
       "    .dataframe thead th {\n",
       "        text-align: right;\n",
       "    }\n",
       "</style>\n",
       "<table border=\"1\" class=\"dataframe\">\n",
       "  <thead>\n",
       "    <tr style=\"text-align: right;\">\n",
       "      <th></th>\n",
       "      <th>shrimp</th>\n",
       "      <th>almonds</th>\n",
       "      <th>avocado</th>\n",
       "      <th>vegetables mix</th>\n",
       "      <th>green grapes</th>\n",
       "      <th>whole weat flour</th>\n",
       "      <th>yams</th>\n",
       "      <th>cottage cheese</th>\n",
       "      <th>energy drink</th>\n",
       "      <th>tomato juice</th>\n",
       "      <th>low fat yogurt</th>\n",
       "      <th>green tea</th>\n",
       "      <th>honey</th>\n",
       "      <th>salad</th>\n",
       "      <th>mineral water</th>\n",
       "      <th>salmon</th>\n",
       "      <th>antioxydant juice</th>\n",
       "      <th>frozen smoothie</th>\n",
       "      <th>spinach</th>\n",
       "      <th>olive oil</th>\n",
       "    </tr>\n",
       "  </thead>\n",
       "  <tbody>\n",
       "    <tr>\n",
       "      <th>0</th>\n",
       "      <td>burgers</td>\n",
       "      <td>meatballs</td>\n",
       "      <td>eggs</td>\n",
       "      <td>NaN</td>\n",
       "      <td>NaN</td>\n",
       "      <td>NaN</td>\n",
       "      <td>NaN</td>\n",
       "      <td>NaN</td>\n",
       "      <td>NaN</td>\n",
       "      <td>NaN</td>\n",
       "      <td>NaN</td>\n",
       "      <td>NaN</td>\n",
       "      <td>NaN</td>\n",
       "      <td>NaN</td>\n",
       "      <td>NaN</td>\n",
       "      <td>NaN</td>\n",
       "      <td>NaN</td>\n",
       "      <td>NaN</td>\n",
       "      <td>NaN</td>\n",
       "      <td>NaN</td>\n",
       "    </tr>\n",
       "    <tr>\n",
       "      <th>1</th>\n",
       "      <td>chutney</td>\n",
       "      <td>NaN</td>\n",
       "      <td>NaN</td>\n",
       "      <td>NaN</td>\n",
       "      <td>NaN</td>\n",
       "      <td>NaN</td>\n",
       "      <td>NaN</td>\n",
       "      <td>NaN</td>\n",
       "      <td>NaN</td>\n",
       "      <td>NaN</td>\n",
       "      <td>NaN</td>\n",
       "      <td>NaN</td>\n",
       "      <td>NaN</td>\n",
       "      <td>NaN</td>\n",
       "      <td>NaN</td>\n",
       "      <td>NaN</td>\n",
       "      <td>NaN</td>\n",
       "      <td>NaN</td>\n",
       "      <td>NaN</td>\n",
       "      <td>NaN</td>\n",
       "    </tr>\n",
       "    <tr>\n",
       "      <th>2</th>\n",
       "      <td>turkey</td>\n",
       "      <td>avocado</td>\n",
       "      <td>NaN</td>\n",
       "      <td>NaN</td>\n",
       "      <td>NaN</td>\n",
       "      <td>NaN</td>\n",
       "      <td>NaN</td>\n",
       "      <td>NaN</td>\n",
       "      <td>NaN</td>\n",
       "      <td>NaN</td>\n",
       "      <td>NaN</td>\n",
       "      <td>NaN</td>\n",
       "      <td>NaN</td>\n",
       "      <td>NaN</td>\n",
       "      <td>NaN</td>\n",
       "      <td>NaN</td>\n",
       "      <td>NaN</td>\n",
       "      <td>NaN</td>\n",
       "      <td>NaN</td>\n",
       "      <td>NaN</td>\n",
       "    </tr>\n",
       "    <tr>\n",
       "      <th>3</th>\n",
       "      <td>mineral water</td>\n",
       "      <td>milk</td>\n",
       "      <td>energy bar</td>\n",
       "      <td>whole wheat rice</td>\n",
       "      <td>green tea</td>\n",
       "      <td>NaN</td>\n",
       "      <td>NaN</td>\n",
       "      <td>NaN</td>\n",
       "      <td>NaN</td>\n",
       "      <td>NaN</td>\n",
       "      <td>NaN</td>\n",
       "      <td>NaN</td>\n",
       "      <td>NaN</td>\n",
       "      <td>NaN</td>\n",
       "      <td>NaN</td>\n",
       "      <td>NaN</td>\n",
       "      <td>NaN</td>\n",
       "      <td>NaN</td>\n",
       "      <td>NaN</td>\n",
       "      <td>NaN</td>\n",
       "    </tr>\n",
       "    <tr>\n",
       "      <th>4</th>\n",
       "      <td>low fat yogurt</td>\n",
       "      <td>NaN</td>\n",
       "      <td>NaN</td>\n",
       "      <td>NaN</td>\n",
       "      <td>NaN</td>\n",
       "      <td>NaN</td>\n",
       "      <td>NaN</td>\n",
       "      <td>NaN</td>\n",
       "      <td>NaN</td>\n",
       "      <td>NaN</td>\n",
       "      <td>NaN</td>\n",
       "      <td>NaN</td>\n",
       "      <td>NaN</td>\n",
       "      <td>NaN</td>\n",
       "      <td>NaN</td>\n",
       "      <td>NaN</td>\n",
       "      <td>NaN</td>\n",
       "      <td>NaN</td>\n",
       "      <td>NaN</td>\n",
       "      <td>NaN</td>\n",
       "    </tr>\n",
       "  </tbody>\n",
       "</table>\n",
       "</div>"
      ],
      "text/plain": [
       "           shrimp    almonds     avocado    vegetables mix green grapes  \\\n",
       "0         burgers  meatballs        eggs               NaN          NaN   \n",
       "1         chutney        NaN         NaN               NaN          NaN   \n",
       "2          turkey    avocado         NaN               NaN          NaN   \n",
       "3   mineral water       milk  energy bar  whole wheat rice    green tea   \n",
       "4  low fat yogurt        NaN         NaN               NaN          NaN   \n",
       "\n",
       "  whole weat flour yams cottage cheese energy drink tomato juice  \\\n",
       "0              NaN  NaN            NaN          NaN          NaN   \n",
       "1              NaN  NaN            NaN          NaN          NaN   \n",
       "2              NaN  NaN            NaN          NaN          NaN   \n",
       "3              NaN  NaN            NaN          NaN          NaN   \n",
       "4              NaN  NaN            NaN          NaN          NaN   \n",
       "\n",
       "  low fat yogurt green tea honey salad mineral water salmon antioxydant juice  \\\n",
       "0            NaN       NaN   NaN   NaN           NaN    NaN               NaN   \n",
       "1            NaN       NaN   NaN   NaN           NaN    NaN               NaN   \n",
       "2            NaN       NaN   NaN   NaN           NaN    NaN               NaN   \n",
       "3            NaN       NaN   NaN   NaN           NaN    NaN               NaN   \n",
       "4            NaN       NaN   NaN   NaN           NaN    NaN               NaN   \n",
       "\n",
       "  frozen smoothie spinach  olive oil  \n",
       "0             NaN     NaN        NaN  \n",
       "1             NaN     NaN        NaN  \n",
       "2             NaN     NaN        NaN  \n",
       "3             NaN     NaN        NaN  \n",
       "4             NaN     NaN        NaN  "
      ]
     },
     "execution_count": 5,
     "metadata": {},
     "output_type": "execute_result"
    }
   ],
   "source": [
    "store_data = pd.read_csv('./data/store_data.csv')\n",
    "store_data.head()\n",
    "#Each row represents a basket."
   ]
  },
  {
   "cell_type": "code",
   "execution_count": 6,
   "id": "e5105911-04dc-4b8c-bd68-5b7bf1146148",
   "metadata": {},
   "outputs": [
    {
     "data": {
      "text/plain": [
       "(7500, 20)"
      ]
     },
     "execution_count": 6,
     "metadata": {},
     "output_type": "execute_result"
    }
   ],
   "source": [
    "store_data.shape"
   ]
  },
  {
   "cell_type": "code",
   "execution_count": 8,
   "id": "a42be4af-1d1f-4cab-965d-69675307d5a7",
   "metadata": {},
   "outputs": [],
   "source": [
    "#Data Preprocessing : Convert the given data into array form for it to be used by the apriori function\n",
    "\n",
    "records = []\n",
    "for i in range(1, 7500):\n",
    "    records.append([str(store_data.values[i, j]) for j in range(0, 20)])"
   ]
  },
  {
   "cell_type": "code",
   "execution_count": 9,
   "id": "6da1d8a0-12ef-47cf-8dd7-0459713e1155",
   "metadata": {},
   "outputs": [
    {
     "name": "stdout",
     "output_type": "stream",
     "text": [
      "<class 'list'>\n"
     ]
    }
   ],
   "source": [
    "print(type(records))"
   ]
  },
  {
   "cell_type": "markdown",
   "id": "5a95e3c1-ea26-4040-a05f-34d600b95f76",
   "metadata": {},
   "source": [
    "### Measures of Apriori Algorithm \n",
    "\n",
    "1. Support\n",
    ">How popular an item, or an itemset, is popular in a dataset. We count all the appearances of the itemset as well as other itemsets containing it as a subset.\n",
    "\n",
    "2. Confidence\n",
    ">How likely Item Y is purchased given Purchased X\n",
    ">>Confidence(X -> Y) = Support(X, Y) / Support (X)\n",
    "\n",
    "3. Lift\n",
    ">How likely Y is purchased, given X, while controlling the value of how popular Y  is.\n",
    ">>Lift(X->Y) = Support(X, Y)/ Support(X) x Support(Y)"
   ]
  },
  {
   "cell_type": "code",
   "execution_count": 10,
   "id": "f600c425-7a6b-4548-a223-87bc0841cac1",
   "metadata": {},
   "outputs": [],
   "source": [
    "association_rules = apriori(records, min_support=0.0045, min_confidence=0.2, min_lift=3, min_length=2)\n",
    "association_results = list(association_rules)"
   ]
  },
  {
   "cell_type": "code",
   "execution_count": 11,
   "id": "8193dba6-c60c-42d2-b7ca-27ad40179e22",
   "metadata": {},
   "outputs": [
    {
     "name": "stdout",
     "output_type": "stream",
     "text": [
      "[RelationRecord(items=frozenset({'chicken', 'light cream'}), support=0.004533937858381117, ordered_statistics=[OrderedStatistic(items_base=frozenset({'light cream'}), items_add=frozenset({'chicken'}), confidence=0.29059829059829057, lift=4.842659069325735)]), RelationRecord(items=frozenset({'mushroom cream sauce', 'escalope'}), support=0.005734097879717296, ordered_statistics=[OrderedStatistic(items_base=frozenset({'mushroom cream sauce'}), items_add=frozenset({'escalope'}), confidence=0.30069930069930073, lift=3.7898219427631195)]), RelationRecord(items=frozenset({'pasta', 'escalope'}), support=0.005867448993199093, ordered_statistics=[OrderedStatistic(items_base=frozenset({'pasta'}), items_add=frozenset({'escalope'}), confidence=0.37288135593220345, lift=4.6995584674547795)]), RelationRecord(items=frozenset({'herb & pepper', 'ground beef'}), support=0.01600213361781571, ordered_statistics=[OrderedStatistic(items_base=frozenset({'herb & pepper'}), items_add=frozenset({'ground beef'}), confidence=0.3234501347708895, lift=3.291116093143691)]), RelationRecord(items=frozenset({'tomato sauce', 'ground beef'}), support=0.005334044539271903, ordered_statistics=[OrderedStatistic(items_base=frozenset({'tomato sauce'}), items_add=frozenset({'ground beef'}), confidence=0.3773584905660377, lift=3.8396354420009726)]), RelationRecord(items=frozenset({'whole wheat pasta', 'olive oil'}), support=0.008001066808907855, ordered_statistics=[OrderedStatistic(items_base=frozenset({'whole wheat pasta'}), items_add=frozenset({'olive oil'}), confidence=0.2714932126696833, lift=4.129670591906603)]), RelationRecord(items=frozenset({'pasta', 'shrimp'}), support=0.0050673423123083075, ordered_statistics=[OrderedStatistic(items_base=frozenset({'pasta'}), items_add=frozenset({'shrimp'}), confidence=0.3220338983050848, lift=4.513891968952954)]), RelationRecord(items=frozenset({'chicken', 'light cream', 'nan'}), support=0.004533937858381117, ordered_statistics=[OrderedStatistic(items_base=frozenset({'light cream'}), items_add=frozenset({'chicken', 'nan'}), confidence=0.29059829059829057, lift=4.842659069325735), OrderedStatistic(items_base=frozenset({'light cream', 'nan'}), items_add=frozenset({'chicken'}), confidence=0.29059829059829057, lift=4.842659069325735)]), RelationRecord(items=frozenset({'shrimp', 'frozen vegetables', 'chocolate'}), support=0.005334044539271903, ordered_statistics=[OrderedStatistic(items_base=frozenset({'frozen vegetables', 'chocolate'}), items_add=frozenset({'shrimp'}), confidence=0.2325581395348837, lift=3.2597261464898932), OrderedStatistic(items_base=frozenset({'shrimp', 'chocolate'}), items_add=frozenset({'frozen vegetables'}), confidence=0.2962962962962963, lift=3.1075887075887074)]), RelationRecord(items=frozenset({'cooking oil', 'ground beef', 'spaghetti'}), support=0.004800640085344712, ordered_statistics=[OrderedStatistic(items_base=frozenset({'cooking oil', 'ground beef'}), items_add=frozenset({'spaghetti'}), confidence=0.5714285714285714, lift=3.2811201050098444), OrderedStatistic(items_base=frozenset({'cooking oil', 'spaghetti'}), items_add=frozenset({'ground beef'}), confidence=0.30252100840336127, lift=3.078161522410863)]), RelationRecord(items=frozenset({'nan', 'mushroom cream sauce', 'escalope'}), support=0.005734097879717296, ordered_statistics=[OrderedStatistic(items_base=frozenset({'mushroom cream sauce'}), items_add=frozenset({'nan', 'escalope'}), confidence=0.30069930069930073, lift=3.7898219427631195), OrderedStatistic(items_base=frozenset({'nan', 'mushroom cream sauce'}), items_add=frozenset({'escalope'}), confidence=0.30069930069930073, lift=3.7898219427631195)]), RelationRecord(items=frozenset({'pasta', 'nan', 'escalope'}), support=0.005867448993199093, ordered_statistics=[OrderedStatistic(items_base=frozenset({'pasta'}), items_add=frozenset({'nan', 'escalope'}), confidence=0.37288135593220345, lift=4.6995584674547795), OrderedStatistic(items_base=frozenset({'pasta', 'nan'}), items_add=frozenset({'escalope'}), confidence=0.37288135593220345, lift=4.6995584674547795)]), RelationRecord(items=frozenset({'frozen vegetables', 'ground beef', 'spaghetti'}), support=0.008667822376316843, ordered_statistics=[OrderedStatistic(items_base=frozenset({'frozen vegetables', 'spaghetti'}), items_add=frozenset({'ground beef'}), confidence=0.31100478468899523, lift=3.164484233897931)]), RelationRecord(items=frozenset({'frozen vegetables', 'olive oil', 'milk'}), support=0.004800640085344712, ordered_statistics=[OrderedStatistic(items_base=frozenset({'frozen vegetables', 'milk'}), items_add=frozenset({'olive oil'}), confidence=0.20338983050847456, lift=3.0937532230893523), OrderedStatistic(items_base=frozenset({'frozen vegetables', 'olive oil'}), items_add=frozenset({'milk'}), confidence=0.4235294117647059, lift=3.2675381263616554)]), RelationRecord(items=frozenset({'mineral water', 'frozen vegetables', 'shrimp'}), support=0.007200960128017069, ordered_statistics=[OrderedStatistic(items_base=frozenset({'mineral water', 'shrimp'}), items_add=frozenset({'frozen vegetables'}), confidence=0.3068181818181818, lift=3.2179434202161477)]), RelationRecord(items=frozenset({'frozen vegetables', 'spaghetti', 'olive oil'}), support=0.005734097879717296, ordered_statistics=[OrderedStatistic(items_base=frozenset({'frozen vegetables', 'spaghetti'}), items_add=frozenset({'olive oil'}), confidence=0.2057416267942584, lift=3.1295262866737192)]), RelationRecord(items=frozenset({'shrimp', 'frozen vegetables', 'spaghetti'}), support=0.00600080010668089, ordered_statistics=[OrderedStatistic(items_base=frozenset({'frozen vegetables', 'spaghetti'}), items_add=frozenset({'shrimp'}), confidence=0.21531100478468898, lift=3.0179761212717433)]), RelationRecord(items=frozenset({'tomatoes', 'frozen vegetables', 'spaghetti'}), support=0.006667555674089879, ordered_statistics=[OrderedStatistic(items_base=frozenset({'frozen vegetables', 'spaghetti'}), items_add=frozenset({'tomatoes'}), confidence=0.23923444976076555, lift=3.4971133309083444), OrderedStatistic(items_base=frozenset({'tomatoes', 'spaghetti'}), items_add=frozenset({'frozen vegetables'}), confidence=0.3184713375796178, lift=3.340163021691684)]), RelationRecord(items=frozenset({'grated cheese', 'ground beef', 'spaghetti'}), support=0.005334044539271903, ordered_statistics=[OrderedStatistic(items_base=frozenset({'grated cheese', 'spaghetti'}), items_add=frozenset({'ground beef'}), confidence=0.3225806451612903, lift=3.2822690068717995)]), RelationRecord(items=frozenset({'mineral water', 'herb & pepper', 'ground beef'}), support=0.006667555674089879, ordered_statistics=[OrderedStatistic(items_base=frozenset({'mineral water', 'herb & pepper'}), items_add=frozenset({'ground beef'}), confidence=0.390625, lift=3.9746226255088195)]), RelationRecord(items=frozenset({'nan', 'herb & pepper', 'ground beef'}), support=0.01600213361781571, ordered_statistics=[OrderedStatistic(items_base=frozenset({'herb & pepper'}), items_add=frozenset({'nan', 'ground beef'}), confidence=0.3234501347708895, lift=3.291116093143691), OrderedStatistic(items_base=frozenset({'nan', 'herb & pepper'}), items_add=frozenset({'ground beef'}), confidence=0.3234501347708895, lift=3.291116093143691)]), RelationRecord(items=frozenset({'herb & pepper', 'ground beef', 'spaghetti'}), support=0.006400853447126284, ordered_statistics=[OrderedStatistic(items_base=frozenset({'herb & pepper', 'spaghetti'}), items_add=frozenset({'ground beef'}), confidence=0.39344262295081966, lift=4.00329203461085)]), RelationRecord(items=frozenset({'ground beef', 'olive oil', 'milk'}), support=0.00493399119882651, ordered_statistics=[OrderedStatistic(items_base=frozenset({'ground beef', 'milk'}), items_add=frozenset({'olive oil'}), confidence=0.22424242424242424, lift=3.4109410535374023)]), RelationRecord(items=frozenset({'nan', 'tomato sauce', 'ground beef'}), support=0.005334044539271903, ordered_statistics=[OrderedStatistic(items_base=frozenset({'tomato sauce'}), items_add=frozenset({'nan', 'ground beef'}), confidence=0.3773584905660377, lift=3.8396354420009726), OrderedStatistic(items_base=frozenset({'nan', 'tomato sauce'}), items_add=frozenset({'ground beef'}), confidence=0.3773584905660377, lift=3.8396354420009726)]), RelationRecord(items=frozenset({'shrimp', 'ground beef', 'spaghetti'}), support=0.00600080010668089, ordered_statistics=[OrderedStatistic(items_base=frozenset({'shrimp', 'ground beef'}), items_add=frozenset({'spaghetti'}), confidence=0.5232558139534883, lift=3.004514049645642)]), RelationRecord(items=frozenset({'spaghetti', 'olive oil', 'milk'}), support=0.007200960128017069, ordered_statistics=[OrderedStatistic(items_base=frozenset({'spaghetti', 'milk'}), items_add=frozenset({'olive oil'}), confidence=0.2030075187969925, lift=3.087937897482042)]), RelationRecord(items=frozenset({'mineral water', 'soup', 'olive oil'}), support=0.005200693425790106, ordered_statistics=[OrderedStatistic(items_base=frozenset({'mineral water', 'soup'}), items_add=frozenset({'olive oil'}), confidence=0.2254335260115607, lift=3.429058846979095)]), RelationRecord(items=frozenset({'nan', 'whole wheat pasta', 'olive oil'}), support=0.008001066808907855, ordered_statistics=[OrderedStatistic(items_base=frozenset({'whole wheat pasta'}), items_add=frozenset({'nan', 'olive oil'}), confidence=0.2714932126696833, lift=4.129670591906603), OrderedStatistic(items_base=frozenset({'nan', 'whole wheat pasta'}), items_add=frozenset({'olive oil'}), confidence=0.2714932126696833, lift=4.129670591906603)]), RelationRecord(items=frozenset({'pasta', 'nan', 'shrimp'}), support=0.0050673423123083075, ordered_statistics=[OrderedStatistic(items_base=frozenset({'pasta'}), items_add=frozenset({'shrimp', 'nan'}), confidence=0.3220338983050848, lift=4.513891968952954), OrderedStatistic(items_base=frozenset({'pasta', 'nan'}), items_add=frozenset({'shrimp'}), confidence=0.3220338983050848, lift=4.513891968952954)]), RelationRecord(items=frozenset({'pancakes', 'spaghetti', 'olive oil'}), support=0.0050673423123083075, ordered_statistics=[OrderedStatistic(items_base=frozenset({'pancakes', 'spaghetti'}), items_add=frozenset({'olive oil'}), confidence=0.20105820105820107, lift=3.058286916299087)]), RelationRecord(items=frozenset({'shrimp', 'nan', 'frozen vegetables', 'chocolate'}), support=0.005334044539271903, ordered_statistics=[OrderedStatistic(items_base=frozenset({'frozen vegetables', 'chocolate'}), items_add=frozenset({'shrimp', 'nan'}), confidence=0.2325581395348837, lift=3.2597261464898932), OrderedStatistic(items_base=frozenset({'shrimp', 'chocolate'}), items_add=frozenset({'nan', 'frozen vegetables'}), confidence=0.2962962962962963, lift=3.1075887075887074), OrderedStatistic(items_base=frozenset({'nan', 'frozen vegetables', 'chocolate'}), items_add=frozenset({'shrimp'}), confidence=0.2325581395348837, lift=3.2597261464898932), OrderedStatistic(items_base=frozenset({'shrimp', 'nan', 'chocolate'}), items_add=frozenset({'frozen vegetables'}), confidence=0.2962962962962963, lift=3.1075887075887074)]), RelationRecord(items=frozenset({'nan', 'cooking oil', 'ground beef', 'spaghetti'}), support=0.004800640085344712, ordered_statistics=[OrderedStatistic(items_base=frozenset({'cooking oil', 'ground beef'}), items_add=frozenset({'nan', 'spaghetti'}), confidence=0.5714285714285714, lift=3.2811201050098444), OrderedStatistic(items_base=frozenset({'cooking oil', 'spaghetti'}), items_add=frozenset({'nan', 'ground beef'}), confidence=0.30252100840336127, lift=3.078161522410863), OrderedStatistic(items_base=frozenset({'nan', 'cooking oil', 'ground beef'}), items_add=frozenset({'spaghetti'}), confidence=0.5714285714285714, lift=3.2811201050098444), OrderedStatistic(items_base=frozenset({'nan', 'cooking oil', 'spaghetti'}), items_add=frozenset({'ground beef'}), confidence=0.30252100840336127, lift=3.078161522410863)]), RelationRecord(items=frozenset({'nan', 'frozen vegetables', 'ground beef', 'spaghetti'}), support=0.008667822376316843, ordered_statistics=[OrderedStatistic(items_base=frozenset({'frozen vegetables', 'spaghetti'}), items_add=frozenset({'nan', 'ground beef'}), confidence=0.31100478468899523, lift=3.164484233897931), OrderedStatistic(items_base=frozenset({'nan', 'frozen vegetables', 'spaghetti'}), items_add=frozenset({'ground beef'}), confidence=0.31100478468899523, lift=3.164484233897931)]), RelationRecord(items=frozenset({'mineral water', 'frozen vegetables', 'spaghetti', 'milk'}), support=0.004533937858381117, ordered_statistics=[OrderedStatistic(items_base=frozenset({'mineral water', 'spaghetti', 'milk'}), items_add=frozenset({'frozen vegetables'}), confidence=0.288135593220339, lift=3.0219983406424085)]), RelationRecord(items=frozenset({'nan', 'frozen vegetables', 'olive oil', 'milk'}), support=0.004800640085344712, ordered_statistics=[OrderedStatistic(items_base=frozenset({'frozen vegetables', 'milk'}), items_add=frozenset({'nan', 'olive oil'}), confidence=0.20338983050847456, lift=3.0937532230893523), OrderedStatistic(items_base=frozenset({'frozen vegetables', 'olive oil'}), items_add=frozenset({'nan', 'milk'}), confidence=0.4235294117647059, lift=3.2675381263616554), OrderedStatistic(items_base=frozenset({'nan', 'frozen vegetables', 'milk'}), items_add=frozenset({'olive oil'}), confidence=0.20338983050847456, lift=3.0937532230893523), OrderedStatistic(items_base=frozenset({'nan', 'frozen vegetables', 'olive oil'}), items_add=frozenset({'milk'}), confidence=0.4235294117647059, lift=3.2675381263616554)]), RelationRecord(items=frozenset({'mineral water', 'nan', 'frozen vegetables', 'shrimp'}), support=0.007200960128017069, ordered_statistics=[OrderedStatistic(items_base=frozenset({'mineral water', 'shrimp'}), items_add=frozenset({'nan', 'frozen vegetables'}), confidence=0.3068181818181818, lift=3.2179434202161477), OrderedStatistic(items_base=frozenset({'mineral water', 'nan', 'shrimp'}), items_add=frozenset({'frozen vegetables'}), confidence=0.3068181818181818, lift=3.2179434202161477)]), RelationRecord(items=frozenset({'nan', 'frozen vegetables', 'spaghetti', 'olive oil'}), support=0.005734097879717296, ordered_statistics=[OrderedStatistic(items_base=frozenset({'frozen vegetables', 'spaghetti'}), items_add=frozenset({'nan', 'olive oil'}), confidence=0.2057416267942584, lift=3.1295262866737192), OrderedStatistic(items_base=frozenset({'nan', 'frozen vegetables', 'spaghetti'}), items_add=frozenset({'olive oil'}), confidence=0.2057416267942584, lift=3.1295262866737192)]), RelationRecord(items=frozenset({'shrimp', 'nan', 'frozen vegetables', 'spaghetti'}), support=0.00600080010668089, ordered_statistics=[OrderedStatistic(items_base=frozenset({'frozen vegetables', 'spaghetti'}), items_add=frozenset({'shrimp', 'nan'}), confidence=0.21531100478468898, lift=3.0179761212717433), OrderedStatistic(items_base=frozenset({'nan', 'frozen vegetables', 'spaghetti'}), items_add=frozenset({'shrimp'}), confidence=0.21531100478468898, lift=3.0179761212717433)]), RelationRecord(items=frozenset({'nan', 'frozen vegetables', 'tomatoes', 'spaghetti'}), support=0.006667555674089879, ordered_statistics=[OrderedStatistic(items_base=frozenset({'frozen vegetables', 'spaghetti'}), items_add=frozenset({'nan', 'tomatoes'}), confidence=0.23923444976076555, lift=3.4971133309083444), OrderedStatistic(items_base=frozenset({'tomatoes', 'spaghetti'}), items_add=frozenset({'nan', 'frozen vegetables'}), confidence=0.3184713375796178, lift=3.340163021691684), OrderedStatistic(items_base=frozenset({'nan', 'frozen vegetables', 'spaghetti'}), items_add=frozenset({'tomatoes'}), confidence=0.23923444976076555, lift=3.4971133309083444), OrderedStatistic(items_base=frozenset({'nan', 'tomatoes', 'spaghetti'}), items_add=frozenset({'frozen vegetables'}), confidence=0.3184713375796178, lift=3.340163021691684)]), RelationRecord(items=frozenset({'grated cheese', 'ground beef', 'spaghetti', 'nan'}), support=0.005334044539271903, ordered_statistics=[OrderedStatistic(items_base=frozenset({'grated cheese', 'spaghetti'}), items_add=frozenset({'nan', 'ground beef'}), confidence=0.3225806451612903, lift=3.2822690068717995), OrderedStatistic(items_base=frozenset({'grated cheese', 'nan', 'spaghetti'}), items_add=frozenset({'ground beef'}), confidence=0.3225806451612903, lift=3.2822690068717995)]), RelationRecord(items=frozenset({'mineral water', 'nan', 'herb & pepper', 'ground beef'}), support=0.006667555674089879, ordered_statistics=[OrderedStatistic(items_base=frozenset({'mineral water', 'herb & pepper'}), items_add=frozenset({'nan', 'ground beef'}), confidence=0.390625, lift=3.9746226255088195), OrderedStatistic(items_base=frozenset({'mineral water', 'nan', 'herb & pepper'}), items_add=frozenset({'ground beef'}), confidence=0.390625, lift=3.9746226255088195)]), RelationRecord(items=frozenset({'nan', 'herb & pepper', 'ground beef', 'spaghetti'}), support=0.006400853447126284, ordered_statistics=[OrderedStatistic(items_base=frozenset({'herb & pepper', 'spaghetti'}), items_add=frozenset({'nan', 'ground beef'}), confidence=0.39344262295081966, lift=4.00329203461085), OrderedStatistic(items_base=frozenset({'nan', 'herb & pepper', 'spaghetti'}), items_add=frozenset({'ground beef'}), confidence=0.39344262295081966, lift=4.00329203461085)]), RelationRecord(items=frozenset({'nan', 'ground beef', 'olive oil', 'milk'}), support=0.00493399119882651, ordered_statistics=[OrderedStatistic(items_base=frozenset({'ground beef', 'milk'}), items_add=frozenset({'nan', 'olive oil'}), confidence=0.22424242424242424, lift=3.4109410535374023), OrderedStatistic(items_base=frozenset({'nan', 'ground beef', 'milk'}), items_add=frozenset({'olive oil'}), confidence=0.22424242424242424, lift=3.4109410535374023)]), RelationRecord(items=frozenset({'shrimp', 'nan', 'ground beef', 'spaghetti'}), support=0.00600080010668089, ordered_statistics=[OrderedStatistic(items_base=frozenset({'shrimp', 'ground beef'}), items_add=frozenset({'nan', 'spaghetti'}), confidence=0.5232558139534883, lift=3.004514049645642), OrderedStatistic(items_base=frozenset({'shrimp', 'nan', 'ground beef'}), items_add=frozenset({'spaghetti'}), confidence=0.5232558139534883, lift=3.004514049645642)]), RelationRecord(items=frozenset({'nan', 'spaghetti', 'olive oil', 'milk'}), support=0.007200960128017069, ordered_statistics=[OrderedStatistic(items_base=frozenset({'spaghetti', 'milk'}), items_add=frozenset({'nan', 'olive oil'}), confidence=0.2030075187969925, lift=3.087937897482042), OrderedStatistic(items_base=frozenset({'nan', 'spaghetti', 'milk'}), items_add=frozenset({'olive oil'}), confidence=0.2030075187969925, lift=3.087937897482042)]), RelationRecord(items=frozenset({'mineral water', 'nan', 'soup', 'olive oil'}), support=0.005200693425790106, ordered_statistics=[OrderedStatistic(items_base=frozenset({'mineral water', 'soup'}), items_add=frozenset({'nan', 'olive oil'}), confidence=0.2254335260115607, lift=3.429058846979095), OrderedStatistic(items_base=frozenset({'mineral water', 'nan', 'soup'}), items_add=frozenset({'olive oil'}), confidence=0.2254335260115607, lift=3.429058846979095)]), RelationRecord(items=frozenset({'nan', 'pancakes', 'spaghetti', 'olive oil'}), support=0.0050673423123083075, ordered_statistics=[OrderedStatistic(items_base=frozenset({'pancakes', 'spaghetti'}), items_add=frozenset({'nan', 'olive oil'}), confidence=0.20105820105820107, lift=3.058286916299087), OrderedStatistic(items_base=frozenset({'nan', 'pancakes', 'spaghetti'}), items_add=frozenset({'olive oil'}), confidence=0.20105820105820107, lift=3.058286916299087)]), RelationRecord(items=frozenset({'nan', 'spaghetti', 'mineral water', 'frozen vegetables', 'milk'}), support=0.004533937858381117, ordered_statistics=[OrderedStatistic(items_base=frozenset({'mineral water', 'spaghetti', 'milk'}), items_add=frozenset({'nan', 'frozen vegetables'}), confidence=0.288135593220339, lift=3.0219983406424085), OrderedStatistic(items_base=frozenset({'mineral water', 'nan', 'spaghetti', 'milk'}), items_add=frozenset({'frozen vegetables'}), confidence=0.288135593220339, lift=3.0219983406424085)])]\n"
     ]
    }
   ],
   "source": [
    "print(association_results)"
   ]
  },
  {
   "cell_type": "code",
   "execution_count": 12,
   "id": "f570d276-0787-49c2-929d-afd16e435068",
   "metadata": {},
   "outputs": [
    {
     "name": "stdout",
     "output_type": "stream",
     "text": [
      "There are 48 Relation derived.\n"
     ]
    }
   ],
   "source": [
    "print(\"There are {} Relation derived.\".format(len(association_results)))"
   ]
  },
  {
   "cell_type": "code",
   "execution_count": 13,
   "id": "b16db26b-88b9-4ff7-9ea5-d8caf527c7a7",
   "metadata": {},
   "outputs": [
    {
     "name": "stdout",
     "output_type": "stream",
     "text": [
      "frozenset({'chicken', 'light cream'})\n",
      "frozenset({'mushroom cream sauce', 'escalope'})\n",
      "frozenset({'pasta', 'escalope'})\n",
      "frozenset({'herb & pepper', 'ground beef'})\n",
      "frozenset({'tomato sauce', 'ground beef'})\n",
      "frozenset({'whole wheat pasta', 'olive oil'})\n",
      "frozenset({'pasta', 'shrimp'})\n",
      "frozenset({'chicken', 'light cream', 'nan'})\n",
      "frozenset({'shrimp', 'frozen vegetables', 'chocolate'})\n",
      "frozenset({'cooking oil', 'ground beef', 'spaghetti'})\n",
      "frozenset({'nan', 'mushroom cream sauce', 'escalope'})\n",
      "frozenset({'pasta', 'nan', 'escalope'})\n",
      "frozenset({'frozen vegetables', 'ground beef', 'spaghetti'})\n",
      "frozenset({'frozen vegetables', 'olive oil', 'milk'})\n",
      "frozenset({'mineral water', 'frozen vegetables', 'shrimp'})\n",
      "frozenset({'frozen vegetables', 'spaghetti', 'olive oil'})\n",
      "frozenset({'shrimp', 'frozen vegetables', 'spaghetti'})\n",
      "frozenset({'tomatoes', 'frozen vegetables', 'spaghetti'})\n",
      "frozenset({'grated cheese', 'ground beef', 'spaghetti'})\n",
      "frozenset({'mineral water', 'herb & pepper', 'ground beef'})\n",
      "frozenset({'nan', 'herb & pepper', 'ground beef'})\n",
      "frozenset({'herb & pepper', 'ground beef', 'spaghetti'})\n",
      "frozenset({'ground beef', 'olive oil', 'milk'})\n",
      "frozenset({'nan', 'tomato sauce', 'ground beef'})\n",
      "frozenset({'shrimp', 'ground beef', 'spaghetti'})\n",
      "frozenset({'spaghetti', 'olive oil', 'milk'})\n",
      "frozenset({'mineral water', 'soup', 'olive oil'})\n",
      "frozenset({'nan', 'whole wheat pasta', 'olive oil'})\n",
      "frozenset({'pasta', 'nan', 'shrimp'})\n",
      "frozenset({'pancakes', 'spaghetti', 'olive oil'})\n",
      "frozenset({'shrimp', 'nan', 'frozen vegetables', 'chocolate'})\n",
      "frozenset({'nan', 'cooking oil', 'ground beef', 'spaghetti'})\n",
      "frozenset({'nan', 'frozen vegetables', 'ground beef', 'spaghetti'})\n",
      "frozenset({'mineral water', 'frozen vegetables', 'spaghetti', 'milk'})\n",
      "frozenset({'nan', 'frozen vegetables', 'olive oil', 'milk'})\n",
      "frozenset({'mineral water', 'nan', 'frozen vegetables', 'shrimp'})\n",
      "frozenset({'nan', 'frozen vegetables', 'spaghetti', 'olive oil'})\n",
      "frozenset({'shrimp', 'nan', 'frozen vegetables', 'spaghetti'})\n",
      "frozenset({'nan', 'frozen vegetables', 'tomatoes', 'spaghetti'})\n",
      "frozenset({'grated cheese', 'ground beef', 'spaghetti', 'nan'})\n",
      "frozenset({'mineral water', 'nan', 'herb & pepper', 'ground beef'})\n",
      "frozenset({'nan', 'herb & pepper', 'ground beef', 'spaghetti'})\n",
      "frozenset({'nan', 'ground beef', 'olive oil', 'milk'})\n",
      "frozenset({'shrimp', 'nan', 'ground beef', 'spaghetti'})\n",
      "frozenset({'nan', 'spaghetti', 'olive oil', 'milk'})\n",
      "frozenset({'mineral water', 'nan', 'soup', 'olive oil'})\n",
      "frozenset({'nan', 'pancakes', 'spaghetti', 'olive oil'})\n",
      "frozenset({'nan', 'spaghetti', 'mineral water', 'frozen vegetables', 'milk'})\n"
     ]
    }
   ],
   "source": [
    "for i in range(0, len(association_results)):\n",
    "    print(association_results[i][0])"
   ]
  },
  {
   "cell_type": "code",
   "execution_count": 14,
   "id": "0e41be25-1165-4bcc-a504-70c7d3cabaea",
   "metadata": {},
   "outputs": [
    {
     "name": "stdout",
     "output_type": "stream",
     "text": [
      "Rule: chicken -> light cream\n",
      "Support: 0.004533937858381117\n",
      "Confidence: 0.29059829059829057\n",
      "Lift: 4.842659069325735\n",
      "=====================================\n",
      "Rule: mushroom cream sauce -> escalope\n",
      "Support: 0.005734097879717296\n",
      "Confidence: 0.30069930069930073\n",
      "Lift: 3.7898219427631195\n",
      "=====================================\n",
      "Rule: pasta -> escalope\n",
      "Support: 0.005867448993199093\n",
      "Confidence: 0.37288135593220345\n",
      "Lift: 4.6995584674547795\n",
      "=====================================\n",
      "Rule: herb & pepper -> ground beef\n",
      "Support: 0.01600213361781571\n",
      "Confidence: 0.3234501347708895\n",
      "Lift: 3.291116093143691\n",
      "=====================================\n",
      "Rule: tomato sauce -> ground beef\n",
      "Support: 0.005334044539271903\n",
      "Confidence: 0.3773584905660377\n",
      "Lift: 3.8396354420009726\n",
      "=====================================\n",
      "Rule: whole wheat pasta -> olive oil\n",
      "Support: 0.008001066808907855\n",
      "Confidence: 0.2714932126696833\n",
      "Lift: 4.129670591906603\n",
      "=====================================\n",
      "Rule: pasta -> shrimp\n",
      "Support: 0.0050673423123083075\n",
      "Confidence: 0.3220338983050848\n",
      "Lift: 4.513891968952954\n",
      "=====================================\n",
      "Rule: chicken -> light cream\n",
      "Support: 0.004533937858381117\n",
      "Confidence: 0.29059829059829057\n",
      "Lift: 4.842659069325735\n",
      "=====================================\n",
      "Rule: shrimp -> frozen vegetables\n",
      "Support: 0.005334044539271903\n",
      "Confidence: 0.2325581395348837\n",
      "Lift: 3.2597261464898932\n",
      "=====================================\n",
      "Rule: cooking oil -> ground beef\n",
      "Support: 0.004800640085344712\n",
      "Confidence: 0.5714285714285714\n",
      "Lift: 3.2811201050098444\n",
      "=====================================\n",
      "Rule: nan -> mushroom cream sauce\n",
      "Support: 0.005734097879717296\n",
      "Confidence: 0.30069930069930073\n",
      "Lift: 3.7898219427631195\n",
      "=====================================\n",
      "Rule: pasta -> nan\n",
      "Support: 0.005867448993199093\n",
      "Confidence: 0.37288135593220345\n",
      "Lift: 4.6995584674547795\n",
      "=====================================\n",
      "Rule: frozen vegetables -> ground beef\n",
      "Support: 0.008667822376316843\n",
      "Confidence: 0.31100478468899523\n",
      "Lift: 3.164484233897931\n",
      "=====================================\n",
      "Rule: frozen vegetables -> olive oil\n",
      "Support: 0.004800640085344712\n",
      "Confidence: 0.20338983050847456\n",
      "Lift: 3.0937532230893523\n",
      "=====================================\n",
      "Rule: mineral water -> frozen vegetables\n",
      "Support: 0.007200960128017069\n",
      "Confidence: 0.3068181818181818\n",
      "Lift: 3.2179434202161477\n",
      "=====================================\n",
      "Rule: frozen vegetables -> spaghetti\n",
      "Support: 0.005734097879717296\n",
      "Confidence: 0.2057416267942584\n",
      "Lift: 3.1295262866737192\n",
      "=====================================\n",
      "Rule: shrimp -> frozen vegetables\n",
      "Support: 0.00600080010668089\n",
      "Confidence: 0.21531100478468898\n",
      "Lift: 3.0179761212717433\n",
      "=====================================\n",
      "Rule: tomatoes -> frozen vegetables\n",
      "Support: 0.006667555674089879\n",
      "Confidence: 0.23923444976076555\n",
      "Lift: 3.4971133309083444\n",
      "=====================================\n",
      "Rule: grated cheese -> ground beef\n",
      "Support: 0.005334044539271903\n",
      "Confidence: 0.3225806451612903\n",
      "Lift: 3.2822690068717995\n",
      "=====================================\n",
      "Rule: mineral water -> herb & pepper\n",
      "Support: 0.006667555674089879\n",
      "Confidence: 0.390625\n",
      "Lift: 3.9746226255088195\n",
      "=====================================\n",
      "Rule: nan -> herb & pepper\n",
      "Support: 0.01600213361781571\n",
      "Confidence: 0.3234501347708895\n",
      "Lift: 3.291116093143691\n",
      "=====================================\n",
      "Rule: herb & pepper -> ground beef\n",
      "Support: 0.006400853447126284\n",
      "Confidence: 0.39344262295081966\n",
      "Lift: 4.00329203461085\n",
      "=====================================\n",
      "Rule: ground beef -> olive oil\n",
      "Support: 0.00493399119882651\n",
      "Confidence: 0.22424242424242424\n",
      "Lift: 3.4109410535374023\n",
      "=====================================\n",
      "Rule: nan -> tomato sauce\n",
      "Support: 0.005334044539271903\n",
      "Confidence: 0.3773584905660377\n",
      "Lift: 3.8396354420009726\n",
      "=====================================\n",
      "Rule: shrimp -> ground beef\n",
      "Support: 0.00600080010668089\n",
      "Confidence: 0.5232558139534883\n",
      "Lift: 3.004514049645642\n",
      "=====================================\n",
      "Rule: spaghetti -> olive oil\n",
      "Support: 0.007200960128017069\n",
      "Confidence: 0.2030075187969925\n",
      "Lift: 3.087937897482042\n",
      "=====================================\n",
      "Rule: mineral water -> soup\n",
      "Support: 0.005200693425790106\n",
      "Confidence: 0.2254335260115607\n",
      "Lift: 3.429058846979095\n",
      "=====================================\n",
      "Rule: nan -> whole wheat pasta\n",
      "Support: 0.008001066808907855\n",
      "Confidence: 0.2714932126696833\n",
      "Lift: 4.129670591906603\n",
      "=====================================\n",
      "Rule: pasta -> nan\n",
      "Support: 0.0050673423123083075\n",
      "Confidence: 0.3220338983050848\n",
      "Lift: 4.513891968952954\n",
      "=====================================\n",
      "Rule: pancakes -> spaghetti\n",
      "Support: 0.0050673423123083075\n",
      "Confidence: 0.20105820105820107\n",
      "Lift: 3.058286916299087\n",
      "=====================================\n",
      "Rule: shrimp -> nan\n",
      "Support: 0.005334044539271903\n",
      "Confidence: 0.2325581395348837\n",
      "Lift: 3.2597261464898932\n",
      "=====================================\n",
      "Rule: nan -> cooking oil\n",
      "Support: 0.004800640085344712\n",
      "Confidence: 0.5714285714285714\n",
      "Lift: 3.2811201050098444\n",
      "=====================================\n",
      "Rule: nan -> frozen vegetables\n",
      "Support: 0.008667822376316843\n",
      "Confidence: 0.31100478468899523\n",
      "Lift: 3.164484233897931\n",
      "=====================================\n",
      "Rule: mineral water -> frozen vegetables\n",
      "Support: 0.004533937858381117\n",
      "Confidence: 0.288135593220339\n",
      "Lift: 3.0219983406424085\n",
      "=====================================\n",
      "Rule: nan -> frozen vegetables\n",
      "Support: 0.004800640085344712\n",
      "Confidence: 0.20338983050847456\n",
      "Lift: 3.0937532230893523\n",
      "=====================================\n",
      "Rule: mineral water -> nan\n",
      "Support: 0.007200960128017069\n",
      "Confidence: 0.3068181818181818\n",
      "Lift: 3.2179434202161477\n",
      "=====================================\n",
      "Rule: nan -> frozen vegetables\n",
      "Support: 0.005734097879717296\n",
      "Confidence: 0.2057416267942584\n",
      "Lift: 3.1295262866737192\n",
      "=====================================\n",
      "Rule: shrimp -> nan\n",
      "Support: 0.00600080010668089\n",
      "Confidence: 0.21531100478468898\n",
      "Lift: 3.0179761212717433\n",
      "=====================================\n",
      "Rule: nan -> frozen vegetables\n",
      "Support: 0.006667555674089879\n",
      "Confidence: 0.23923444976076555\n",
      "Lift: 3.4971133309083444\n",
      "=====================================\n",
      "Rule: grated cheese -> ground beef\n",
      "Support: 0.005334044539271903\n",
      "Confidence: 0.3225806451612903\n",
      "Lift: 3.2822690068717995\n",
      "=====================================\n",
      "Rule: mineral water -> nan\n",
      "Support: 0.006667555674089879\n",
      "Confidence: 0.390625\n",
      "Lift: 3.9746226255088195\n",
      "=====================================\n",
      "Rule: nan -> herb & pepper\n",
      "Support: 0.006400853447126284\n",
      "Confidence: 0.39344262295081966\n",
      "Lift: 4.00329203461085\n",
      "=====================================\n",
      "Rule: nan -> ground beef\n",
      "Support: 0.00493399119882651\n",
      "Confidence: 0.22424242424242424\n",
      "Lift: 3.4109410535374023\n",
      "=====================================\n",
      "Rule: shrimp -> nan\n",
      "Support: 0.00600080010668089\n",
      "Confidence: 0.5232558139534883\n",
      "Lift: 3.004514049645642\n",
      "=====================================\n",
      "Rule: nan -> spaghetti\n",
      "Support: 0.007200960128017069\n",
      "Confidence: 0.2030075187969925\n",
      "Lift: 3.087937897482042\n",
      "=====================================\n",
      "Rule: mineral water -> nan\n",
      "Support: 0.005200693425790106\n",
      "Confidence: 0.2254335260115607\n",
      "Lift: 3.429058846979095\n",
      "=====================================\n",
      "Rule: nan -> pancakes\n",
      "Support: 0.0050673423123083075\n",
      "Confidence: 0.20105820105820107\n",
      "Lift: 3.058286916299087\n",
      "=====================================\n",
      "Rule: nan -> spaghetti\n",
      "Support: 0.004533937858381117\n",
      "Confidence: 0.288135593220339\n",
      "Lift: 3.0219983406424085\n",
      "=====================================\n"
     ]
    }
   ],
   "source": [
    "for item in association_results:\n",
    "    # first index of the inner list\n",
    "    # Contains base item and add item\n",
    "    pair = item[0]\n",
    "    items = [x for x in pair]\n",
    "    print(\"Rule: \" + items[0] + \" -> \" + items[1])\n",
    "\n",
    "    # second index of the inner list\n",
    "    print(\"Support: \" + str(item[1]))\n",
    "\n",
    "    # third index of the list located at 0th\n",
    "    # of the third index of the inner list\n",
    "\n",
    "    print(\"Confidence: \" + str(item[2][0][2]))\n",
    "    print(\"Lift: \" + str(item[2][0][3]))\n",
    "    print(\"=====================================\")"
   ]
  },
  {
   "cell_type": "code",
   "execution_count": null,
   "id": "299c20b4-11b2-4123-89e3-db97b88ef534",
   "metadata": {},
   "outputs": [],
   "source": []
  },
  {
   "cell_type": "code",
   "execution_count": null,
   "id": "11188a96-762b-416c-b6d0-7d123834c1bd",
   "metadata": {},
   "outputs": [],
   "source": []
  },
  {
   "cell_type": "markdown",
   "id": "9cd7d11e-caeb-4c19-82e8-31e05173e610",
   "metadata": {},
   "source": [
    "##  Clustering for Data Preprocessing\n",
    "\n",
    "Clustering is the process of grouping elements which fall into a similar category. There are different ways we can group the data points:\n",
    "1. DB Scan\n",
    ">Here we can predefine the maximum distance for two points to be considered as neighbours, and eps, short for epsilon, which decides the radius of neighbourhood of the points. The min sample decides the minimum number of neighbours in the eps radius.\n",
    "   \n",
    "2. Spectral Clustering\n",
    ">You need to specify the number of clusters to form, the affinity decides the way the algorithm finds the similarity between two data points(eg. nearest_neighbors), and the assign_labels parameter decides method used to apply labels (eg. Kmeans)\n",
    "   \n",
    "3. K Means Clustering\n",
    ">We specify the number of clusters to form, init parameter for method for initializing cluster centroids, the max_iter decides maximum number of iterations the algorithm will run for, n_init will allow the program to run the algorithm will multiple centroid seeds, and the random_state used for reproducibility and seed determining by the use of RNG."
   ]
  },
  {
   "cell_type": "code",
   "execution_count": 98,
   "id": "6c99dbdf-56f5-4c85-b507-293bf7f4650a",
   "metadata": {},
   "outputs": [
    {
     "name": "stderr",
     "output_type": "stream",
     "text": [
      "C:\\Users\\ghana\\anaconda3\\Lib\\site-packages\\sklearn\\cluster\\_kmeans.py:1382: UserWarning: KMeans is known to have a memory leak on Windows with MKL, when there are less chunks than available threads. You can avoid it by setting the environment variable OMP_NUM_THREADS=1.\n",
      "  warnings.warn(\n",
      "C:\\Users\\ghana\\anaconda3\\Lib\\site-packages\\sklearn\\cluster\\_kmeans.py:1382: UserWarning: KMeans is known to have a memory leak on Windows with MKL, when there are less chunks than available threads. You can avoid it by setting the environment variable OMP_NUM_THREADS=1.\n",
      "  warnings.warn(\n"
     ]
    },
    {
     "data": {
      "image/png": "[encoded data removed]",
      "text/plain": [
       "<Figure size 1000x500 with 3 Axes>"
      ]
     },
     "metadata": {},
     "output_type": "display_data"
    }
   ],
   "source": [
    "#Dependencies:\n",
    "from sklearn import datasets\n",
    "from sklearn.cluster import DBSCAN, SpectralClustering\n",
    "from sklearn.preprocessing import StandardScaler\n",
    "from sklearn.cluster import KMeans\n",
    "\n",
    "# Load the iris dataset\n",
    "iris = datasets.load_iris()\n",
    "X = iris.data\n",
    "y = iris.target\n",
    "\n",
    "#The lines X = iris.data and y = iris.target are used to load the famous Iris dataset into variables X and y, respectively. \n",
    "#Here's a breakdown of what's happening:\n",
    "#iris.data: This is a NumPy array containing the features (attributes) of the Iris dataset. Each row represents a sample \n",
    "#(observation), and each column represents a feature (such as sepal length, sepal width, petal length, and petal width).\n",
    "#iris.target: This is a NumPy array containing the target variable (class labels) of the Iris dataset. \n",
    "#Each element in this array corresponds to the class label of the corresponding sample in iris.data. \n",
    "#In the case of the Iris dataset, there are three classes: Iris Setosa, Iris Versicolor, and Iris Virginica.\n",
    "\n",
    "\n",
    "\n",
    "# Standardize the data\n",
    "scaler = StandardScaler()\n",
    "X = scaler.fit_transform(X)\n",
    "\n",
    "#The line X = scaler.fit_transform(X) applies the scaling operation to the feature matrix X using the fit_transform method \n",
    "#of the StandardScaler object. Here's a breakdown of what's happening:\n",
    "\n",
    "#fit_transform(X): This method computes the mean and standard deviation of each feature in the dataset X and \n",
    "#then standardizes the features based on these statistics. It first fits the scaler to the data (computes mean and \n",
    "#standard deviation), and then transforms the data by centering and scaling it.\n",
    "\n",
    "#X: This is the feature matrix, typically containing the input data for a machine learning model. \n",
    "#Each row represents a sample (observation), and each column represents a feature (attribute).\n",
    "\n",
    "\n",
    "\n",
    "# Compute DBSCAN\n",
    "dbscan = DBSCAN(eps=0.5, min_samples=5) \n",
    "\n",
    "#When you specify eps=0.5 in the DBSCAN algorithm, you are setting the maximum distance \n",
    "#between points to be considered as neighbors to 0.5 units in the dataset's coordinate system. \n",
    "\n",
    "dbscan_labels = dbscan.fit_predict(X) \n",
    "\n",
    "#performing clustering using the DBSCAN algorithm on the dataset X and assigning cluster \n",
    "#labels to each data point.\n",
    "#fit_predict(X) is a method call on the dbscan object. The fit_predict method fits the DBSCAN model to the dataset X and \n",
    "#then assigns cluster labels to each data point based on the clustering result.\n",
    "#The resulting dbscan_labels variable contains an array of cluster labels assigned to each data point in the dataset X. \n",
    "#Data points that are considered as noise (i.e., not part of any cluster) are typically labeled as -1.\n",
    "\n",
    "# Compute Spectral Clustering\n",
    "spectral = SpectralClustering(n_clusters=3, affinity='nearest_neighbors', assign_labels='kmeans')\n",
    "spectral_labels = spectral.fit_predict(X)\n",
    "\n",
    "#n_clusters=3: This parameter specifies the number of clusters that the algorithm should aim to find. \n",
    "#In this case, it's set to 3, indicating that the algorithm should partition the data into three distinct clusters.\n",
    "\n",
    "# affinity='nearest_neighbors': This parameter determines how the algorithm measures the similarity between data points. \n",
    "#Setting it to 'nearest_neighbors' means that the algorithm will use the nearest neighbors graph to calculate \n",
    "#the affinity matrix, where data points are connected to their nearest neighbors.\n",
    "\n",
    "#assign_labels='kmeans': This parameter determines the method used to assign cluster labels after clustering. \n",
    "#Setting it to 'kmeans' means that the K-means algorithm will be applied to the affinity matrix to assign cluster labels.\n",
    "\n",
    "# initialize k-means clustering with k=3 clusters\n",
    "kmeans = KMeans(n_clusters=3, init='k-means++', max_iter=300, n_init=10, random_state=0)\n",
    "\n",
    "#n_clusters=3: This parameter specifies the number of clusters that the algorithm should aim to find. \n",
    "#In this case, it's set to 3, indicating that the algorithm should partition the data into three distinct clusters.\n",
    "\n",
    "#init='k-means++': This parameter determines the method used to initialize the cluster centroids before the algorithm \n",
    "#iteratively optimizes them. 'k-means++' is an advanced initialization technique that aims to place the initial centroids \n",
    "#far apart from each other, which often leads to better convergence and more accurate clustering results.\n",
    "\n",
    "#max_iter=300: This parameter specifies the maximum number of iterations that the K-means algorithm will perform in a \n",
    "#single run. If convergence is not achieved within this limit, the algorithm stops. Setting it to 300 means that the \n",
    "#algorithm will iterate up to 300 times before terminating.\n",
    "\n",
    "#n_init=10: K-means is sensitive to the initial placement of centroids, so the algorithm is typically run multiple times \n",
    "#with different initializations to find the best clustering solution. This parameter controls the number of times the \n",
    "#algorithm will be run with different centroid seeds. In this case, it will run the algorithm 10 times with different \n",
    "#initializations and choose the one that yields the lowest inertia (sum of squared distances from each point to its nearest \n",
    "#centroid).\n",
    "\n",
    "#random_state=0: This parameter sets the seed for the random number generator used by the algorithm. \n",
    "#Setting it to a specific value ensures reproducibility, meaning that running the algorithm with the same parameters \n",
    "#and dataset will produce the same results each time, which is useful for debugging and comparison purposes.\n",
    "\n",
    "\n",
    "# fit the data to the k-means clustering model\n",
    "kmeans_labels=kmeans.fit_predict(X)\n",
    "\n",
    "#kmeans is an instance of the KMeans algorithm that has been configured with specific parameters, \n",
    "#such as the number of clusters (n_clusters), initialization method (init), maximum number of iterations (max_iter), \n",
    "#number of initializations (n_init), and random state (random_state).\n",
    "\n",
    "\n",
    "#fit_predict(X) is a method call on the kmeans object. The fit_predict method fits the KMeans model to the dataset X and \n",
    "#simultaneously assigns cluster labels to each data point based on the clustering result.\n",
    "\n",
    "#The resulting kmeans_labels variable contains an array of cluster labels assigned to each data point in the dataset X. \n",
    "#Each label represents the cluster to which the corresponding data point has been assigned.\n",
    "\n",
    "# Plot the results\n",
    "\n",
    "fig, axs = plt.subplots(1, 3, figsize=(10, 5))\n",
    "\n",
    "#fig: This variable represents the entire figure object, which serves as the container for all the subplots. \n",
    "#It encapsulates the entire visual representation, including all the axes (plots) and labels.\n",
    "#axs: This variable is a NumPy array containing references to each individual subplot (or axis). In this case, \n",
    "#since there are 3 subplots arranged in a single row, axs is an array of length 3, where each element corresponds to a subplot.\n",
    "\n",
    "#plt.subplots(1, 3, figsize=(10, 5)): This function call is from the Matplotlib library and is used to create a figure with \n",
    "#multiple subplots. \n",
    "#The parameters passed to subplots are as follows:\n",
    "#1: Number of rows of subplots. Here, it's set to 1, indicating that there is only one row.\n",
    "#3: Number of columns of subplots. This parameter specifies that there are 3 subplots arranged in a single row.\n",
    "#figsize=(10, 5): This parameter sets the size of the entire figure. It's a tuple specifying the width and height of the \n",
    "#figure in inches. In this case, the width is 10 inches, and the height is 5 inches.\n",
    "\n",
    "\n",
    "axs[0].scatter(X[:, 0], X[:, 1], c=dbscan_labels, cmap='rainbow')\n",
    "axs[0].set_title('DBSCAN')\n",
    "\n",
    "#axs[0]: This accesses the first subplot in the array of subplots (axs). In Matplotlib, you can use this notation to access \n",
    "#specific subplots within a figure.\n",
    "\n",
    "#.scatter(X[:, 0], X[:, 1], c=dbscan_labels, cmap='rainbow'): This method call plots a scatter plot on the selected subplot. \n",
    "#The parameters passed to scatter are as follows:\n",
    "\n",
    "#X[:, 0]: This represents the x-coordinates of the data points to be plotted. \n",
    "#It selects all rows (:) of the first column (0) from the dataset X.\n",
    "\n",
    "#X[:, 1]: This represents the y-coordinates of the data points to be plotted. \n",
    "#It selects all rows (:) of the second column (1) from the dataset X.\n",
    "#c=dbscan_labels: This parameter assigns colors to the data points based on their cluster labels (dbscan_labels). \n",
    "#Each unique cluster label will be assigned a different color.\n",
    "#cmap='rainbow': This parameter specifies the color map to be used for coloring the data points. \n",
    "#In this case, the 'rainbow' color map is used, which assigns a different color to each distinct cluster label.\n",
    "\n",
    "#The line axs[0].set_title('DBSCAN') sets the title of the first subplot (axs[0]) to 'DBSCAN'. \n",
    "#Here's a breakdown of what's happening:\n",
    "\n",
    "#axs[0]: This accesses the first subplot in the array of subplots (axs). \n",
    "#In Matplotlib, you can use this notation to access specific subplots within a figure.\n",
    "\n",
    "#.set_title('DBSCAN'): This method call sets the title of the selected subplot to 'DBSCAN'. \n",
    "#The title provides a brief description or label for the subplot, helping viewers understand the content or purpose of the plot.\n",
    "\n",
    "\n",
    "axs[1].scatter(X[:, 0], X[:, 1], c=spectral_labels, cmap='rainbow')\n",
    "axs[1].set_title('Spectral Clustering')\n",
    "\n",
    "axs[2].scatter(X[:, 0], X[:, 1], c=kmeans_labels, cmap='rainbow')\n",
    "axs[2].set_title('Kmean Clustering')\n",
    "\n",
    "\n",
    "plt.show()\n"
   ]
  }
 ],
 "metadata": {
  "kernelspec": {
   "display_name": "Python 3 (ipykernel)",
   "language": "python",
   "name": "python3"
  },
  "language_info": {
   "codemirror_mode": {
    "name": "ipython",
    "version": 3
   },
   "file_extension": ".py",
   "mimetype": "text/x-python",
   "name": "python",
   "nbconvert_exporter": "python",
   "pygments_lexer": "ipython3",
   "version": "3.11.7"
  }
 },
 "nbformat": 4,
 "nbformat_minor": 5
}
